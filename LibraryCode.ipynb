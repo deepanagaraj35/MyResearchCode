{
  "nbformat": 4,
  "nbformat_minor": 0,
  "metadata": {
    "colab": {
      "name": "LibraryCode.ipynb",
      "provenance": [],
      "collapsed_sections": [],
      "toc_visible": true
    },
    "kernelspec": {
      "name": "python3",
      "display_name": "Python 3"
    }
  },
  "cells": [
    {
      "cell_type": "code",
      "metadata": {
        "id": "kegAasVrLW3R",
        "colab": {
          "base_uri": "https://localhost:8080/"
        },
        "outputId": "271670e7-e5ca-45bd-a627-6755e3de4ba9"
      },
      "source": [
        "from google.colab import drive\n",
        "drive.mount('/content/drive')"
      ],
      "execution_count": null,
      "outputs": [
        {
          "output_type": "stream",
          "text": [
            "Drive already mounted at /content/drive; to attempt to forcibly remount, call drive.mount(\"/content/drive\", force_remount=True).\n"
          ],
          "name": "stdout"
        }
      ]
    },
    {
      "cell_type": "code",
      "metadata": {
        "id": "wNIyZhnKZjwC",
        "colab": {
          "base_uri": "https://localhost:8080/"
        },
        "outputId": "2157f4af-1994-4d53-895c-e25b7a08e30b"
      },
      "source": [
        "ls"
      ],
      "execution_count": null,
      "outputs": [
        {
          "output_type": "stream",
          "text": [
            "'1_Introduction - 2018.pptx'\n",
            "'2_DB Design and ER - 2018.pptx'\n",
            " 3MScCSA-Schedule.xlsx\n",
            "'3MSCSA Student List.xls'\n",
            "'3_Storage and Indexing.pptx'\n",
            "'4_XML - 2018.pptx'\n",
            " 5_NoSQL.pptx\n",
            "\u001b[0m\u001b[01;34m'ADBMS materials'\u001b[0m/\n",
            "'cardio (1).ipynb'\n",
            "'cardio (2).ipynb'\n",
            " cardio.ipynb\n",
            " \u001b[01;34mCG\u001b[0m/\n",
            "\u001b[01;34m'Colab Notebooks'\u001b[0m/\n",
            "'Colour Models.gdoc'\n",
            "'Colour Models.pdf'\n",
            " ConnectToMongoDB1.java\n",
            "'Database System Concepts 6e By Abraham Silberschatz, Henry Korth and S Sudarshan.pdf'\n",
            " DBCreation.txt\n",
            "'Editing MPR.docx'\n",
            "\u001b[01;34m'Exam Details'\u001b[0m/\n",
            " ExamDetails.mp4\n",
            " JavaMongoDBCursor.java\n",
            "\u001b[01;34m'Main Project'\u001b[0m/\n",
            "\u001b[01;34m'ML '\u001b[0m/\n",
            "'Procedures to apply for Provisional Certificate and Course completion Certificate.pdf'\n",
            "'PROFESSIONAL NoSQL.pdf'\n",
            " \u001b[01;34mResearch\u001b[0m/\n",
            "\u001b[01;34m'Research (1)'\u001b[0m/\n",
            " \u001b[01;34mShared\u001b[0m/\n",
            " Summary.pdf\n",
            " syllabus.pdf\n",
            "\u001b[01;34m'Videos of binning.smoothing,corelation,sampling'\u001b[0m/\n"
          ],
          "name": "stdout"
        }
      ]
    },
    {
      "cell_type": "markdown",
      "metadata": {
        "id": "WGjV4ehgIlAy"
      },
      "source": [
        "1.which lilbray was used more -- UG or Knowledge lib\n",
        "2.WHich class is being used most of the libray\n",
        " 2i_ which class is using which libray\n",
        "3.Group of MCA classes and then plot respect to \n",
        " 3i_time spend vs class\n",
        " 3ii_class vs venue\n",
        "3iii_histogram with class,venue and timespend\n",
        "\n",
        "4.which user had used mosty the library-- Regno with timespend\n",
        "5.month wise\n",
        "\n",
        "\n",
        "Refer note :  http://www.dontpad.com/dee123"
      ]
    },
    {
      "cell_type": "code",
      "metadata": {
        "id": "I6Hqtkg6MWXk",
        "colab": {
          "base_uri": "https://localhost:8080/"
        },
        "outputId": "2aa20438-4d38-45e9-c537-e29fd320a8f1"
      },
      "source": [
        "cd drive/My\\ Drive"
      ],
      "execution_count": null,
      "outputs": [
        {
          "output_type": "stream",
          "text": [
            "[Errno 2] No such file or directory: 'drive/My Drive'\n",
            "/content/drive/My Drive/Colab Notebooks\n"
          ],
          "name": "stdout"
        }
      ]
    },
    {
      "cell_type": "code",
      "metadata": {
        "id": "hMZ_Q6qPMczK",
        "colab": {
          "base_uri": "https://localhost:8080/"
        },
        "outputId": "cb752713-70bf-4e77-be65-e45d279645ba"
      },
      "source": [
        "cd Colab\\ Notebooks"
      ],
      "execution_count": null,
      "outputs": [
        {
          "output_type": "stream",
          "text": [
            "/content/drive/My Drive/Colab Notebooks\n"
          ],
          "name": "stdout"
        }
      ]
    },
    {
      "cell_type": "markdown",
      "metadata": {
        "id": "ncmx_YeSQ7Ju"
      },
      "source": [
        "#Main Page"
      ]
    },
    {
      "cell_type": "code",
      "metadata": {
        "id": "NDNNFGwYLoB1"
      },
      "source": [
        "import pandas as pd\n",
        "import matplotlib as plot\n",
        "import seaborn as sns"
      ],
      "execution_count": null,
      "outputs": []
    },
    {
      "cell_type": "code",
      "metadata": {
        "id": "0afYgcrzMzv0",
        "colab": {
          "base_uri": "https://localhost:8080/",
          "height": 204
        },
        "outputId": "976be168-31ef-49d1-b19f-9f89bb52ccbe"
      },
      "source": [
        "#reading the file and print\n",
        "csvfile = 'Data_Set_all.csv'\n",
        "phd_record_data = pd.read_csv(csvfile)\n",
        "phd_record_data.head()"
      ],
      "execution_count": null,
      "outputs": [
        {
          "output_type": "execute_result",
          "data": {
            "text/html": [
              "<div>\n",
              "<style scoped>\n",
              "    .dataframe tbody tr th:only-of-type {\n",
              "        vertical-align: middle;\n",
              "    }\n",
              "\n",
              "    .dataframe tbody tr th {\n",
              "        vertical-align: top;\n",
              "    }\n",
              "\n",
              "    .dataframe thead th {\n",
              "        text-align: right;\n",
              "    }\n",
              "</style>\n",
              "<table border=\"1\" class=\"dataframe\">\n",
              "  <thead>\n",
              "    <tr style=\"text-align: right;\">\n",
              "      <th></th>\n",
              "      <th>SL.NO</th>\n",
              "      <th>Venue</th>\n",
              "      <th>Register No</th>\n",
              "      <th>First Name</th>\n",
              "      <th>Class</th>\n",
              "      <th>Department</th>\n",
              "      <th>Date</th>\n",
              "      <th>In Time</th>\n",
              "      <th>Out Time</th>\n",
              "      <th>Time Spend</th>\n",
              "    </tr>\n",
              "  </thead>\n",
              "  <tbody>\n",
              "    <tr>\n",
              "      <th>0</th>\n",
              "      <td>1</td>\n",
              "      <td>UG Library - Main campus</td>\n",
              "      <td>1740101</td>\n",
              "      <td>ABHAY TOMAR</td>\n",
              "      <td>3CME</td>\n",
              "      <td>COMPUTER SCIENCE</td>\n",
              "      <td>27/06/2018</td>\n",
              "      <td>11:40:32 AM</td>\n",
              "      <td>11:58:32 AM</td>\n",
              "      <td>0:18:00</td>\n",
              "    </tr>\n",
              "    <tr>\n",
              "      <th>1</th>\n",
              "      <td>2</td>\n",
              "      <td>UG Library - Main campus</td>\n",
              "      <td>1740101</td>\n",
              "      <td>ABHAY TOMAR</td>\n",
              "      <td>3CME</td>\n",
              "      <td>COMPUTER SCIENCE</td>\n",
              "      <td>16/07/2018</td>\n",
              "      <td>3:19:15 PM</td>\n",
              "      <td>3:57:01 PM</td>\n",
              "      <td>0:37:46</td>\n",
              "    </tr>\n",
              "    <tr>\n",
              "      <th>2</th>\n",
              "      <td>4</td>\n",
              "      <td>UG Library - Main campus</td>\n",
              "      <td>1740101</td>\n",
              "      <td>ABHAY TOMAR</td>\n",
              "      <td>3CME</td>\n",
              "      <td>COMPUTER SCIENCE</td>\n",
              "      <td>23/08/2018</td>\n",
              "      <td>4:38:23 PM</td>\n",
              "      <td>4:40:58 PM</td>\n",
              "      <td>0:02:35</td>\n",
              "    </tr>\n",
              "    <tr>\n",
              "      <th>3</th>\n",
              "      <td>5</td>\n",
              "      <td>UG Library - Main campus</td>\n",
              "      <td>1740101</td>\n",
              "      <td>ABHAY TOMAR</td>\n",
              "      <td>3CME</td>\n",
              "      <td>COMPUTER SCIENCE</td>\n",
              "      <td>7/9/2018</td>\n",
              "      <td>3:35:46 PM</td>\n",
              "      <td>4:01:28 PM</td>\n",
              "      <td>0:25:42</td>\n",
              "    </tr>\n",
              "    <tr>\n",
              "      <th>4</th>\n",
              "      <td>7</td>\n",
              "      <td>UG Library - Main campus</td>\n",
              "      <td>1740101</td>\n",
              "      <td>ABHAY TOMAR</td>\n",
              "      <td>3CME</td>\n",
              "      <td>COMPUTER SCIENCE</td>\n",
              "      <td>18/09/2018</td>\n",
              "      <td>3:59:51 PM</td>\n",
              "      <td>4:00:43 PM</td>\n",
              "      <td>0:00:52</td>\n",
              "    </tr>\n",
              "  </tbody>\n",
              "</table>\n",
              "</div>"
            ],
            "text/plain": [
              "   SL.NO                     Venue  ...     Out Time Time Spend\n",
              "0      1  UG Library - Main campus  ...  11:58:32 AM    0:18:00\n",
              "1      2  UG Library - Main campus  ...   3:57:01 PM    0:37:46\n",
              "2      4  UG Library - Main campus  ...   4:40:58 PM    0:02:35\n",
              "3      5  UG Library - Main campus  ...   4:01:28 PM    0:25:42\n",
              "4      7  UG Library - Main campus  ...   4:00:43 PM    0:00:52\n",
              "\n",
              "[5 rows x 10 columns]"
            ]
          },
          "metadata": {
            "tags": []
          },
          "execution_count": 23
        }
      ]
    },
    {
      "cell_type": "code",
      "metadata": {
        "id": "gCy7ebQpCBy4",
        "colab": {
          "base_uri": "https://localhost:8080/",
          "height": 255
        },
        "outputId": "bdbcb2c3-3cb4-435a-b329-b4ca9151dafc"
      },
      "source": [
        "phd_record_data.info"
      ],
      "execution_count": null,
      "outputs": [
        {
          "output_type": "execute_result",
          "data": {
            "text/plain": [
              "<bound method DataFrame.info of        SL.NO                           Venue  ...     Out Time Time Spend\n",
              "0          1        UG Library - Main campus  ...  11:58:32 AM    0:18:00\n",
              "1          2        UG Library - Main campus  ...   3:57:01 PM    0:37:46\n",
              "2          4        UG Library - Main campus  ...   4:40:58 PM    0:02:35\n",
              "3          5        UG Library - Main campus  ...   4:01:28 PM    0:25:42\n",
              "4          7        UG Library - Main campus  ...   4:00:43 PM    0:00:52\n",
              "...      ...                             ...  ...          ...        ...\n",
              "12679  17996  Knowledge Center - Main campus  ...   1:57:20 PM    0:18:09\n",
              "12680  17998  Knowledge Center - Main campus  ...   1:41:47 PM    0:07:23\n",
              "12681  17999  Knowledge Center - Main campus  ...   2:14:45 PM    0:32:02\n",
              "12682  18000  Knowledge Center - Main campus  ...   3:17:38 PM    0:46:41\n",
              "12683  18001  Knowledge Center - Main campus  ...   4:09:41 PM    0:50:10\n",
              "\n",
              "[12684 rows x 10 columns]>"
            ]
          },
          "metadata": {
            "tags": []
          },
          "execution_count": 24
        }
      ]
    },
    {
      "cell_type": "code",
      "metadata": {
        "id": "tL1sCGre11lO"
      },
      "source": [
        "#drop na records in the dataset\n",
        "phd_record_data= phd_record_data.dropna()"
      ],
      "execution_count": null,
      "outputs": []
    },
    {
      "cell_type": "code",
      "metadata": {
        "id": "ZMWAncGtNaQ6",
        "colab": {
          "base_uri": "https://localhost:8080/",
          "height": 204
        },
        "outputId": "0ac5e6f1-b448-4a0e-d5e7-3f2fd2604bc1"
      },
      "source": [
        "phd_record_data.dtypes"
      ],
      "execution_count": null,
      "outputs": [
        {
          "output_type": "execute_result",
          "data": {
            "text/plain": [
              "SL.NO           int64\n",
              "Venue          object\n",
              "Register No     int64\n",
              "First Name     object\n",
              "Class          object\n",
              "Department     object\n",
              "Date           object\n",
              "In Time        object\n",
              "Out Time       object\n",
              "Time Spend     object\n",
              "dtype: object"
            ]
          },
          "metadata": {
            "tags": []
          },
          "execution_count": 26
        }
      ]
    },
    {
      "cell_type": "code",
      "metadata": {
        "id": "RVEraCIz09DN",
        "colab": {
          "base_uri": "https://localhost:8080/",
          "height": 119
        },
        "outputId": "219a9fb9-9f3a-4acd-d417-5e4b7db25028"
      },
      "source": [
        "phd_record_data['Time Spend'] = pd.to_datetime(phd_record_data['Time Spend'])\n",
        "#phd_record_data['Time Spend'] = phd_record_data['Time Spend'] .astype('datetime64[ns]') "
      ],
      "execution_count": null,
      "outputs": [
        {
          "output_type": "stream",
          "text": [
            "/usr/local/lib/python3.6/dist-packages/ipykernel_launcher.py:1: SettingWithCopyWarning: \n",
            "A value is trying to be set on a copy of a slice from a DataFrame.\n",
            "Try using .loc[row_indexer,col_indexer] = value instead\n",
            "\n",
            "See the caveats in the documentation: http://pandas.pydata.org/pandas-docs/stable/user_guide/indexing.html#returning-a-view-versus-a-copy\n",
            "  \"\"\"Entry point for launching an IPython kernel.\n"
          ],
          "name": "stderr"
        }
      ]
    },
    {
      "cell_type": "code",
      "metadata": {
        "id": "fKYD15XH1EIt",
        "colab": {
          "base_uri": "https://localhost:8080/",
          "height": 204
        },
        "outputId": "d2d1e5d3-1f1f-4554-aea3-498a9b380e18"
      },
      "source": [
        "phd_record_data.dtypes"
      ],
      "execution_count": null,
      "outputs": [
        {
          "output_type": "execute_result",
          "data": {
            "text/plain": [
              "SL.NO                   int64\n",
              "Venue                  object\n",
              "Register No             int64\n",
              "First Name             object\n",
              "Class                  object\n",
              "Department             object\n",
              "Date                   object\n",
              "In Time                object\n",
              "Out Time               object\n",
              "Time Spend     datetime64[ns]\n",
              "dtype: object"
            ]
          },
          "metadata": {
            "tags": []
          },
          "execution_count": 14
        }
      ]
    },
    {
      "cell_type": "code",
      "metadata": {
        "id": "FPnra5AzCH16",
        "colab": {
          "base_uri": "https://localhost:8080/",
          "height": 657
        },
        "outputId": "50d5a729-34b3-4696-fcdd-9e32dcb8762f"
      },
      "source": [
        "#which lilbray was used more -- UG or Knowledge lib\n",
        "import matplotlib.pyplot as plt\n",
        "phd_record_data['Venue'].value_counts().head(30).plot(kind='barh', figsize=(5,5))\n",
        "\n",
        "fig, ax = plt.subplots(figsize=(15,5))\n",
        "phd_record_data.groupby(['Venue']).count()['Class'].plot(ax=ax)"
      ],
      "execution_count": null,
      "outputs": [
        {
          "output_type": "execute_result",
          "data": {
            "text/plain": [
              "<matplotlib.axes._subplots.AxesSubplot at 0x7faa62b15780>"
            ]
          },
          "metadata": {
            "tags": []
          },
          "execution_count": 155
        },
        {
          "output_type": "display_data",
          "data": {
            "image/png": "[encoded data removed]",
            "text/plain": [
              "<Figure size 360x360 with 1 Axes>"
            ]
          },
          "metadata": {
            "tags": []
          }
        },
        {
          "output_type": "display_data",
          "data": {
            "image/png": "[encoded data removed]",
            "text/plain": [
              "<Figure size 1080x360 with 1 Axes>"
            ]
          },
          "metadata": {
            "tags": []
          }
        }
      ]
    },
    {
      "cell_type": "code",
      "metadata": {
        "id": "fUO1BJTfiqkw",
        "colab": {
          "base_uri": "https://localhost:8080/",
          "height": 282
        },
        "outputId": "49c61e9c-587e-4042-9f81-9f1db7585f7e"
      },
      "source": [
        "dataset_categ = phd_record_data.loc[:,['Venue']]\n",
        "sns.countplot(x=\"variable\", hue=\"value\",data= pd.melt(dataset_categ));"
      ],
      "execution_count": null,
      "outputs": [
        {
          "output_type": "display_data",
          "data": {
            "image/png": "[encoded data removed]",
            "text/plain": [
              "<Figure size 432x288 with 1 Axes>"
            ]
          },
          "metadata": {
            "tags": []
          }
        }
      ]
    },
    {
      "cell_type": "code",
      "metadata": {
        "id": "1kaiTggEFZlb",
        "colab": {
          "base_uri": "https://localhost:8080/",
          "height": 500
        },
        "outputId": "55410347-6080-48e4-fb9c-afffacd6131b"
      },
      "source": [
        "#WHich class is being used most of the libray\n",
        "phd_record_data['Class'].value_counts().head(30).plot(kind='barh', figsize=(15,8))\n"
      ],
      "execution_count": null,
      "outputs": [
        {
          "output_type": "execute_result",
          "data": {
            "text/plain": [
              "<matplotlib.axes._subplots.AxesSubplot at 0x7faa6325fdd8>"
            ]
          },
          "metadata": {
            "tags": []
          },
          "execution_count": 157
        },
        {
          "output_type": "display_data",
          "data": {
            "image/png": "[encoded data removed]",
            "text/plain": [
              "<Figure size 1080x576 with 1 Axes>"
            ]
          },
          "metadata": {
            "tags": []
          }
        }
      ]
    },
    {
      "cell_type": "code",
      "metadata": {
        "id": "myBb2eosF5YL",
        "colab": {
          "base_uri": "https://localhost:8080/",
          "height": 460
        },
        "outputId": "e9457265-eff9-43e2-ea9d-f4c28f9b2fc1"
      },
      "source": [
        "plt.figure(figsize=(28,5))\n",
        "plt.style.use('ggplot')\n",
        "plt.hist(phd_record_data['Class'], bins=20)\n"
      ],
      "execution_count": null,
      "outputs": [
        {
          "output_type": "execute_result",
          "data": {
            "text/plain": [
              "(array([1476.,   14., 1286.,   12.,  147.,  513.,  321.,  218.,  392.,\n",
              "         936.,  780., 2408.,  774.,  594., 1773.,   12.,   47.,  465.,\n",
              "           3.,  512.]),\n",
              " array([ 0.  ,  1.35,  2.7 ,  4.05,  5.4 ,  6.75,  8.1 ,  9.45, 10.8 ,\n",
              "        12.15, 13.5 , 14.85, 16.2 , 17.55, 18.9 , 20.25, 21.6 , 22.95,\n",
              "        24.3 , 25.65, 27.  ]),\n",
              " <a list of 20 Patch objects>)"
            ]
          },
          "metadata": {
            "tags": []
          },
          "execution_count": 158
        },
        {
          "output_type": "display_data",
          "data": {
            "image/png": "[encoded data removed]",
            "text/plain": [
              "<Figure size 2016x360 with 1 Axes>"
            ]
          },
          "metadata": {
            "tags": []
          }
        }
      ]
    },
    {
      "cell_type": "code",
      "metadata": {
        "id": "pDkOgiwyRlgM",
        "colab": {
          "base_uri": "https://localhost:8080/",
          "height": 300
        },
        "outputId": "a9316361-9e6e-4bae-a477-87c9386ae419"
      },
      "source": [
        "#time spend vs Deparment\n",
        "plt.plot(phd_record_data['Department'], phd_record_data['Time Spend'])\n",
        "plt.xlabel('Department')\n",
        "plt.ylabel('Time Spend')"
      ],
      "execution_count": null,
      "outputs": [
        {
          "output_type": "execute_result",
          "data": {
            "text/plain": [
              "Text(0, 0.5, 'Time Spend')"
            ]
          },
          "metadata": {
            "tags": []
          },
          "execution_count": 159
        },
        {
          "output_type": "display_data",
          "data": {
            "image/png": "[encoded data removed]",
            "text/plain": [
              "<Figure size 432x288 with 1 Axes>"
            ]
          },
          "metadata": {
            "tags": []
          }
        }
      ]
    },
    {
      "cell_type": "code",
      "metadata": {
        "id": "Mbw7dEOLoBD3",
        "colab": {
          "base_uri": "https://localhost:8080/",
          "height": 354
        },
        "outputId": "3ffaf487-1c79-4688-de16-7c1890b4243c"
      },
      "source": [
        "#Venue vs Deparment\n",
        "plt.figure(figsize=(10,5))\n",
        "plt.plot(phd_record_data['Venue'], phd_record_data['Department'])\n",
        "plt.xlabel('Venue')\n",
        "plt.ylabel('Department')"
      ],
      "execution_count": null,
      "outputs": [
        {
          "output_type": "execute_result",
          "data": {
            "text/plain": [
              "Text(0, 0.5, 'Department')"
            ]
          },
          "metadata": {
            "tags": []
          },
          "execution_count": 160
        },
        {
          "output_type": "display_data",
          "data": {
            "image/png": "[encoded data removed]",
            "text/plain": [
              "<Figure size 720x360 with 1 Axes>"
            ]
          },
          "metadata": {
            "tags": []
          }
        }
      ]
    },
    {
      "cell_type": "code",
      "metadata": {
        "id": "GiESt4Is9Y3j",
        "colab": {
          "base_uri": "https://localhost:8080/",
          "height": 34
        },
        "outputId": "3e97c88b-ca64-485a-8db9-2f6cda0985eb"
      },
      "source": [
        "##check any null value in data\n",
        "phd_record_data.isnull().values.any()"
      ],
      "execution_count": null,
      "outputs": [
        {
          "output_type": "execute_result",
          "data": {
            "text/plain": [
              "False"
            ]
          },
          "metadata": {
            "tags": []
          },
          "execution_count": 161
        }
      ]
    },
    {
      "cell_type": "code",
      "metadata": {
        "id": "mF_gYQtA9ddY",
        "colab": {
          "base_uri": "https://localhost:8080/",
          "height": 297
        },
        "outputId": "ec4717cf-61b3-41de-ddad-5b27af7bdeeb"
      },
      "source": [
        "phd_record_data.describe()"
      ],
      "execution_count": null,
      "outputs": [
        {
          "output_type": "execute_result",
          "data": {
            "text/html": [
              "<div>\n",
              "<style scoped>\n",
              "    .dataframe tbody tr th:only-of-type {\n",
              "        vertical-align: middle;\n",
              "    }\n",
              "\n",
              "    .dataframe tbody tr th {\n",
              "        vertical-align: top;\n",
              "    }\n",
              "\n",
              "    .dataframe thead th {\n",
              "        text-align: right;\n",
              "    }\n",
              "</style>\n",
              "<table border=\"1\" class=\"dataframe\">\n",
              "  <thead>\n",
              "    <tr style=\"text-align: right;\">\n",
              "      <th></th>\n",
              "      <th>SL.NO</th>\n",
              "      <th>Register No</th>\n",
              "    </tr>\n",
              "  </thead>\n",
              "  <tbody>\n",
              "    <tr>\n",
              "      <th>count</th>\n",
              "      <td>12683.000000</td>\n",
              "      <td>1.268300e+04</td>\n",
              "    </tr>\n",
              "    <tr>\n",
              "      <th>mean</th>\n",
              "      <td>9045.619964</td>\n",
              "      <td>1.807312e+06</td>\n",
              "    </tr>\n",
              "    <tr>\n",
              "      <th>std</th>\n",
              "      <td>5248.402971</td>\n",
              "      <td>4.751938e+04</td>\n",
              "    </tr>\n",
              "    <tr>\n",
              "      <th>min</th>\n",
              "      <td>1.000000</td>\n",
              "      <td>1.740101e+06</td>\n",
              "    </tr>\n",
              "    <tr>\n",
              "      <th>25%</th>\n",
              "      <td>4396.500000</td>\n",
              "      <td>1.741115e+06</td>\n",
              "    </tr>\n",
              "    <tr>\n",
              "      <th>50%</th>\n",
              "      <td>9102.000000</td>\n",
              "      <td>1.840209e+06</td>\n",
              "    </tr>\n",
              "    <tr>\n",
              "      <th>75%</th>\n",
              "      <td>13610.500000</td>\n",
              "      <td>1.841050e+06</td>\n",
              "    </tr>\n",
              "    <tr>\n",
              "      <th>max</th>\n",
              "      <td>18001.000000</td>\n",
              "      <td>1.847267e+06</td>\n",
              "    </tr>\n",
              "  </tbody>\n",
              "</table>\n",
              "</div>"
            ],
            "text/plain": [
              "              SL.NO   Register No\n",
              "count  12683.000000  1.268300e+04\n",
              "mean    9045.619964  1.807312e+06\n",
              "std     5248.402971  4.751938e+04\n",
              "min        1.000000  1.740101e+06\n",
              "25%     4396.500000  1.741115e+06\n",
              "50%     9102.000000  1.840209e+06\n",
              "75%    13610.500000  1.841050e+06\n",
              "max    18001.000000  1.847267e+06"
            ]
          },
          "metadata": {
            "tags": []
          },
          "execution_count": 162
        }
      ]
    },
    {
      "cell_type": "code",
      "metadata": {
        "id": "LftndEZEAW12",
        "colab": {
          "base_uri": "https://localhost:8080/",
          "height": 119
        },
        "outputId": "537cb45b-65d1-4c42-94d4-e632f833fb9a"
      },
      "source": [
        "phd_record_data['singleclass']= phd_record_data['Class'].map(lambda x:x.lstrip('12345'))"
      ],
      "execution_count": null,
      "outputs": [
        {
          "output_type": "stream",
          "text": [
            "/usr/local/lib/python3.6/dist-packages/ipykernel_launcher.py:1: SettingWithCopyWarning: \n",
            "A value is trying to be set on a copy of a slice from a DataFrame.\n",
            "Try using .loc[row_indexer,col_indexer] = value instead\n",
            "\n",
            "See the caveats in the documentation: http://pandas.pydata.org/pandas-docs/stable/user_guide/indexing.html#returning-a-view-versus-a-copy\n",
            "  \"\"\"Entry point for launching an IPython kernel.\n"
          ],
          "name": "stderr"
        }
      ]
    },
    {
      "cell_type": "code",
      "metadata": {
        "id": "nMb5m-nMJLId",
        "colab": {
          "base_uri": "https://localhost:8080/",
          "height": 323
        },
        "outputId": "db237df4-9ec1-4f92-9105-abcf3d688b99"
      },
      "source": [
        "phd_record_data['singlesem']= phd_record_data['Class'].map(lambda x:str(x)[:1])\n",
        "phd_record_data['singlesem']"
      ],
      "execution_count": null,
      "outputs": [
        {
          "output_type": "stream",
          "text": [
            "/usr/local/lib/python3.6/dist-packages/ipykernel_launcher.py:1: SettingWithCopyWarning: \n",
            "A value is trying to be set on a copy of a slice from a DataFrame.\n",
            "Try using .loc[row_indexer,col_indexer] = value instead\n",
            "\n",
            "See the caveats in the documentation: http://pandas.pydata.org/pandas-docs/stable/user_guide/indexing.html#returning-a-view-versus-a-copy\n",
            "  \"\"\"Entry point for launching an IPython kernel.\n"
          ],
          "name": "stderr"
        },
        {
          "output_type": "execute_result",
          "data": {
            "text/plain": [
              "0        3\n",
              "1        3\n",
              "2        3\n",
              "3        3\n",
              "4        3\n",
              "        ..\n",
              "12679    3\n",
              "12680    3\n",
              "12681    3\n",
              "12682    3\n",
              "12683    3\n",
              "Name: singlesem, Length: 12683, dtype: object"
            ]
          },
          "metadata": {
            "tags": []
          },
          "execution_count": 164
        }
      ]
    },
    {
      "cell_type": "code",
      "metadata": {
        "id": "TnBPagq1JK64",
        "colab": {
          "base_uri": "https://localhost:8080/",
          "height": 419
        },
        "outputId": "11265546-a2eb-4fb4-8b1d-c2546f1a2d16"
      },
      "source": [
        "phd_record_data"
      ],
      "execution_count": null,
      "outputs": [
        {
          "output_type": "execute_result",
          "data": {
            "text/html": [
              "<div>\n",
              "<style scoped>\n",
              "    .dataframe tbody tr th:only-of-type {\n",
              "        vertical-align: middle;\n",
              "    }\n",
              "\n",
              "    .dataframe tbody tr th {\n",
              "        vertical-align: top;\n",
              "    }\n",
              "\n",
              "    .dataframe thead th {\n",
              "        text-align: right;\n",
              "    }\n",
              "</style>\n",
              "<table border=\"1\" class=\"dataframe\">\n",
              "  <thead>\n",
              "    <tr style=\"text-align: right;\">\n",
              "      <th></th>\n",
              "      <th>SL.NO</th>\n",
              "      <th>Venue</th>\n",
              "      <th>Register No</th>\n",
              "      <th>First Name</th>\n",
              "      <th>Class</th>\n",
              "      <th>Department</th>\n",
              "      <th>Date</th>\n",
              "      <th>In Time</th>\n",
              "      <th>Out Time</th>\n",
              "      <th>Time Spend</th>\n",
              "      <th>singleclass</th>\n",
              "      <th>singlesem</th>\n",
              "    </tr>\n",
              "  </thead>\n",
              "  <tbody>\n",
              "    <tr>\n",
              "      <th>0</th>\n",
              "      <td>1</td>\n",
              "      <td>UG Library - Main campus</td>\n",
              "      <td>1740101</td>\n",
              "      <td>ABHAY TOMAR</td>\n",
              "      <td>3CME</td>\n",
              "      <td>COMPUTER SCIENCE</td>\n",
              "      <td>27/06/2018</td>\n",
              "      <td>11:40:32 AM</td>\n",
              "      <td>11:58:32 AM</td>\n",
              "      <td>2020-03-03 00:18:00</td>\n",
              "      <td>CME</td>\n",
              "      <td>3</td>\n",
              "    </tr>\n",
              "    <tr>\n",
              "      <th>1</th>\n",
              "      <td>2</td>\n",
              "      <td>UG Library - Main campus</td>\n",
              "      <td>1740101</td>\n",
              "      <td>ABHAY TOMAR</td>\n",
              "      <td>3CME</td>\n",
              "      <td>COMPUTER SCIENCE</td>\n",
              "      <td>16/07/2018</td>\n",
              "      <td>3:19:15 PM</td>\n",
              "      <td>3:57:01 PM</td>\n",
              "      <td>2020-03-03 00:37:46</td>\n",
              "      <td>CME</td>\n",
              "      <td>3</td>\n",
              "    </tr>\n",
              "    <tr>\n",
              "      <th>2</th>\n",
              "      <td>4</td>\n",
              "      <td>UG Library - Main campus</td>\n",
              "      <td>1740101</td>\n",
              "      <td>ABHAY TOMAR</td>\n",
              "      <td>3CME</td>\n",
              "      <td>COMPUTER SCIENCE</td>\n",
              "      <td>23/08/2018</td>\n",
              "      <td>4:38:23 PM</td>\n",
              "      <td>4:40:58 PM</td>\n",
              "      <td>2020-03-03 00:02:35</td>\n",
              "      <td>CME</td>\n",
              "      <td>3</td>\n",
              "    </tr>\n",
              "    <tr>\n",
              "      <th>3</th>\n",
              "      <td>5</td>\n",
              "      <td>UG Library - Main campus</td>\n",
              "      <td>1740101</td>\n",
              "      <td>ABHAY TOMAR</td>\n",
              "      <td>3CME</td>\n",
              "      <td>COMPUTER SCIENCE</td>\n",
              "      <td>7/9/2018</td>\n",
              "      <td>3:35:46 PM</td>\n",
              "      <td>4:01:28 PM</td>\n",
              "      <td>2020-03-03 00:25:42</td>\n",
              "      <td>CME</td>\n",
              "      <td>3</td>\n",
              "    </tr>\n",
              "    <tr>\n",
              "      <th>4</th>\n",
              "      <td>7</td>\n",
              "      <td>UG Library - Main campus</td>\n",
              "      <td>1740101</td>\n",
              "      <td>ABHAY TOMAR</td>\n",
              "      <td>3CME</td>\n",
              "      <td>COMPUTER SCIENCE</td>\n",
              "      <td>18/09/2018</td>\n",
              "      <td>3:59:51 PM</td>\n",
              "      <td>4:00:43 PM</td>\n",
              "      <td>2020-03-03 00:00:52</td>\n",
              "      <td>CME</td>\n",
              "      <td>3</td>\n",
              "    </tr>\n",
              "    <tr>\n",
              "      <th>...</th>\n",
              "      <td>...</td>\n",
              "      <td>...</td>\n",
              "      <td>...</td>\n",
              "      <td>...</td>\n",
              "      <td>...</td>\n",
              "      <td>...</td>\n",
              "      <td>...</td>\n",
              "      <td>...</td>\n",
              "      <td>...</td>\n",
              "      <td>...</td>\n",
              "      <td>...</td>\n",
              "      <td>...</td>\n",
              "    </tr>\n",
              "    <tr>\n",
              "      <th>12679</th>\n",
              "      <td>17996</td>\n",
              "      <td>Knowledge Center - Main campus</td>\n",
              "      <td>1847267</td>\n",
              "      <td>KUMAR NAVIN BARNWAL</td>\n",
              "      <td>3MCA</td>\n",
              "      <td>COMPUTER SCIENCE</td>\n",
              "      <td>4/5/2019</td>\n",
              "      <td>1:39:11 PM</td>\n",
              "      <td>1:57:20 PM</td>\n",
              "      <td>2020-03-03 00:18:09</td>\n",
              "      <td>MCA</td>\n",
              "      <td>3</td>\n",
              "    </tr>\n",
              "    <tr>\n",
              "      <th>12680</th>\n",
              "      <td>17998</td>\n",
              "      <td>Knowledge Center - Main campus</td>\n",
              "      <td>1847267</td>\n",
              "      <td>KUMAR NAVIN BARNWAL</td>\n",
              "      <td>3MCA</td>\n",
              "      <td>COMPUTER SCIENCE</td>\n",
              "      <td>20/05/2019</td>\n",
              "      <td>1:34:24 PM</td>\n",
              "      <td>1:41:47 PM</td>\n",
              "      <td>2020-03-03 00:07:23</td>\n",
              "      <td>MCA</td>\n",
              "      <td>3</td>\n",
              "    </tr>\n",
              "    <tr>\n",
              "      <th>12681</th>\n",
              "      <td>17999</td>\n",
              "      <td>Knowledge Center - Main campus</td>\n",
              "      <td>1847267</td>\n",
              "      <td>KUMAR NAVIN BARNWAL</td>\n",
              "      <td>3MCA</td>\n",
              "      <td>COMPUTER SCIENCE</td>\n",
              "      <td>20/05/2019</td>\n",
              "      <td>1:42:43 PM</td>\n",
              "      <td>2:14:45 PM</td>\n",
              "      <td>2020-03-03 00:32:02</td>\n",
              "      <td>MCA</td>\n",
              "      <td>3</td>\n",
              "    </tr>\n",
              "    <tr>\n",
              "      <th>12682</th>\n",
              "      <td>18000</td>\n",
              "      <td>Knowledge Center - Main campus</td>\n",
              "      <td>1847267</td>\n",
              "      <td>KUMAR NAVIN BARNWAL</td>\n",
              "      <td>3MCA</td>\n",
              "      <td>COMPUTER SCIENCE</td>\n",
              "      <td>20/05/2019</td>\n",
              "      <td>2:30:57 PM</td>\n",
              "      <td>3:17:38 PM</td>\n",
              "      <td>2020-03-03 00:46:41</td>\n",
              "      <td>MCA</td>\n",
              "      <td>3</td>\n",
              "    </tr>\n",
              "    <tr>\n",
              "      <th>12683</th>\n",
              "      <td>18001</td>\n",
              "      <td>Knowledge Center - Main campus</td>\n",
              "      <td>1847267</td>\n",
              "      <td>KUMAR NAVIN BARNWAL</td>\n",
              "      <td>3MCA</td>\n",
              "      <td>COMPUTER SCIENCE</td>\n",
              "      <td>20/05/2019</td>\n",
              "      <td>3:19:31 PM</td>\n",
              "      <td>4:09:41 PM</td>\n",
              "      <td>2020-03-03 00:50:10</td>\n",
              "      <td>MCA</td>\n",
              "      <td>3</td>\n",
              "    </tr>\n",
              "  </tbody>\n",
              "</table>\n",
              "<p>12683 rows × 12 columns</p>\n",
              "</div>"
            ],
            "text/plain": [
              "       SL.NO                           Venue  ...  singleclass singlesem\n",
              "0          1        UG Library - Main campus  ...          CME         3\n",
              "1          2        UG Library - Main campus  ...          CME         3\n",
              "2          4        UG Library - Main campus  ...          CME         3\n",
              "3          5        UG Library - Main campus  ...          CME         3\n",
              "4          7        UG Library - Main campus  ...          CME         3\n",
              "...      ...                             ...  ...          ...       ...\n",
              "12679  17996  Knowledge Center - Main campus  ...          MCA         3\n",
              "12680  17998  Knowledge Center - Main campus  ...          MCA         3\n",
              "12681  17999  Knowledge Center - Main campus  ...          MCA         3\n",
              "12682  18000  Knowledge Center - Main campus  ...          MCA         3\n",
              "12683  18001  Knowledge Center - Main campus  ...          MCA         3\n",
              "\n",
              "[12683 rows x 12 columns]"
            ]
          },
          "metadata": {
            "tags": []
          },
          "execution_count": 165
        }
      ]
    },
    {
      "cell_type": "code",
      "metadata": {
        "id": "U3aLSDIsMsdX"
      },
      "source": [
        ""
      ],
      "execution_count": null,
      "outputs": []
    },
    {
      "cell_type": "code",
      "metadata": {
        "id": "NNNOXw9nTUBI",
        "colab": {
          "base_uri": "https://localhost:8080/",
          "height": 905
        },
        "outputId": "841593ba-5d0b-429b-aada-db63df449a4a"
      },
      "source": [
        "#Coursewise analysis by grouping similar groups\n",
        "\n",
        "pd.crosstab(phd_record_data.singleclass,phd_record_data.singlesem).plot(kind=\"bar\",figsize=(25,15))\n"
      ],
      "execution_count": null,
      "outputs": [
        {
          "output_type": "display_data",
          "data": {
            "image/png": "[encoded data removed]",
            "text/plain": [
              "<Figure size 1800x1080 with 1 Axes>"
            ]
          },
          "metadata": {
            "tags": []
          }
        }
      ]
    },
    {
      "cell_type": "code",
      "metadata": {
        "id": "8Leq2h2JzmPc",
        "colab": {
          "base_uri": "https://localhost:8080/",
          "height": 119
        },
        "outputId": "dd0f29e1-a65d-44b3-e9c6-45442711161d"
      },
      "source": [
        "#phd_record_data['sort']= phd_record_data[['Class']].groupby([phd_record_data['singleyear'],phd_record_data['singleclass']]).count().\n",
        "phd_record_data['s'] = phd_record_data['Class'].value_counts()"
      ],
      "execution_count": null,
      "outputs": [
        {
          "output_type": "stream",
          "text": [
            "/usr/local/lib/python3.6/dist-packages/ipykernel_launcher.py:1: SettingWithCopyWarning: \n",
            "A value is trying to be set on a copy of a slice from a DataFrame.\n",
            "Try using .loc[row_indexer,col_indexer] = value instead\n",
            "\n",
            "See the caveats in the documentation: http://pandas.pydata.org/pandas-docs/stable/user_guide/indexing.html#returning-a-view-versus-a-copy\n",
            "  \"\"\"Entry point for launching an IPython kernel.\n"
          ],
          "name": "stderr"
        }
      ]
    },
    {
      "cell_type": "code",
      "metadata": {
        "id": "Aly1SnIGL85I",
        "colab": {
          "base_uri": "https://localhost:8080/",
          "height": 527
        },
        "outputId": "e39fc41d-5d1e-4387-a371-904adde0783f"
      },
      "source": [
        "#Sorting the classes based on highest number of usage\n",
        "phd_record_data['Class'].value_counts().head(10).plot(kind='bar', figsize=(15,8))"
      ],
      "execution_count": null,
      "outputs": [
        {
          "output_type": "execute_result",
          "data": {
            "text/plain": [
              "<matplotlib.axes._subplots.AxesSubplot at 0x7faa63177710>"
            ]
          },
          "metadata": {
            "tags": []
          },
          "execution_count": 168
        },
        {
          "output_type": "display_data",
          "data": {
            "image/png": "[encoded data removed]",
            "text/plain": [
              "<Figure size 1080x576 with 1 Axes>"
            ]
          },
          "metadata": {
            "tags": []
          }
        }
      ]
    },
    {
      "cell_type": "code",
      "metadata": {
        "id": "gmpPVf75Ses9",
        "colab": {
          "base_uri": "https://localhost:8080/",
          "height": 337
        },
        "outputId": "517013e6-f99a-45ba-d73e-dfde5d74bb71"
      },
      "source": [
        "#Which library used more all over students\n",
        "fig, ax = plt.subplots(figsize=(15,5))\n",
        "sns.countplot(x=\"Venue\",data=phd_record_data,palette = \"bwr\")\n",
        "plt.show()"
      ],
      "execution_count": null,
      "outputs": [
        {
          "output_type": "display_data",
          "data": {
            "image/png": "[encoded data removed]",
            "text/plain": [
              "<Figure size 1080x360 with 1 Axes>"
            ]
          },
          "metadata": {
            "tags": []
          }
        }
      ]
    },
    {
      "cell_type": "code",
      "metadata": {
        "id": "y1biDfLnbdvA",
        "colab": {
          "base_uri": "https://localhost:8080/",
          "height": 536
        },
        "outputId": "2f3cf7da-6493-4c94-d3ed-c88802ea315d"
      },
      "source": [
        "#month wise most used library using plot\n",
        "import pandas as pd\n",
        "s = pd.to_datetime(pd.Series(phd_record_data['Date']), format='%d/%m/%Y')\n",
        "s.index = s.dt.to_period('m')\n",
        "s = s.groupby(level=0).size()\n",
        "s = s.reindex(pd.period_range(s.index.min(), s.index.max(), freq='m'), fill_value=0)\n",
        "print (s)\n",
        "s.sort_values()\n",
        "s.plot.bar()\n",
        "\n"
      ],
      "execution_count": null,
      "outputs": [
        {
          "output_type": "stream",
          "text": [
            "2018-06    1143\n",
            "2018-07    1932\n",
            "2018-08    1349\n",
            "2018-09    1241\n",
            "2018-10     823\n",
            "2018-11     788\n",
            "2018-12     785\n",
            "2019-01    1436\n",
            "2019-02     843\n",
            "2019-03    1476\n",
            "2019-04     799\n",
            "2019-05      68\n",
            "Freq: M, Name: Date, dtype: int64\n"
          ],
          "name": "stdout"
        },
        {
          "output_type": "execute_result",
          "data": {
            "text/plain": [
              "<matplotlib.axes._subplots.AxesSubplot at 0x7faa627b1d30>"
            ]
          },
          "metadata": {
            "tags": []
          },
          "execution_count": 170
        },
        {
          "output_type": "display_data",
          "data": {
            "image/png": "[encoded data removed]",
            "text/plain": [
              "<Figure size 432x288 with 1 Axes>"
            ]
          },
          "metadata": {
            "tags": []
          }
        }
      ]
    },
    {
      "cell_type": "code",
      "metadata": {
        "id": "a8mhPK-vR650",
        "colab": {
          "base_uri": "https://localhost:8080/",
          "height": 357
        },
        "outputId": "d1a282e3-2a60-49f9-dd52-85939dd0e4cc"
      },
      "source": [
        "phd_record_data['month'] = pd.DatetimeIndex(phd_record_data['Date']).month\n",
        "phd_record_data.groupby(['month']).count()\n",
        "grouped = phd_record_data.groupby(['month'])\n",
        "size = grouped.size()\n",
        "size"
      ],
      "execution_count": null,
      "outputs": [
        {
          "output_type": "stream",
          "text": [
            "/usr/local/lib/python3.6/dist-packages/ipykernel_launcher.py:1: SettingWithCopyWarning: \n",
            "A value is trying to be set on a copy of a slice from a DataFrame.\n",
            "Try using .loc[row_indexer,col_indexer] = value instead\n",
            "\n",
            "See the caveats in the documentation: http://pandas.pydata.org/pandas-docs/stable/user_guide/indexing.html#returning-a-view-versus-a-copy\n",
            "  \"\"\"Entry point for launching an IPython kernel.\n"
          ],
          "name": "stderr"
        },
        {
          "output_type": "execute_result",
          "data": {
            "text/plain": [
              "month\n",
              "1     1003\n",
              "2      834\n",
              "3     1692\n",
              "4      711\n",
              "5      428\n",
              "6     1348\n",
              "7     1612\n",
              "8      760\n",
              "9     1334\n",
              "10     671\n",
              "11    1350\n",
              "12     940\n",
              "dtype: int64"
            ]
          },
          "metadata": {
            "tags": []
          },
          "execution_count": 171
        }
      ]
    },
    {
      "cell_type": "code",
      "metadata": {
        "id": "o8qqxeLX3vA-"
      },
      "source": [
        "s = pd.to_datetime(pd.Series(phd_record_data['Date']), format='%d/%m/%Y')"
      ],
      "execution_count": null,
      "outputs": []
    },
    {
      "cell_type": "code",
      "metadata": {
        "id": "AObdqqQuEDXf",
        "colab": {
          "base_uri": "https://localhost:8080/",
          "height": 119
        },
        "outputId": "ef2e94d9-1316-4c54-a4a8-79b863faceee"
      },
      "source": [
        "phd_record_data['Date']=pd.to_datetime(phd_record_data['Date'], format='%d/%m/%Y').dt.strftime('%m/%d/%Y')"
      ],
      "execution_count": null,
      "outputs": [
        {
          "output_type": "stream",
          "text": [
            "/usr/local/lib/python3.6/dist-packages/ipykernel_launcher.py:1: SettingWithCopyWarning: \n",
            "A value is trying to be set on a copy of a slice from a DataFrame.\n",
            "Try using .loc[row_indexer,col_indexer] = value instead\n",
            "\n",
            "See the caveats in the documentation: http://pandas.pydata.org/pandas-docs/stable/user_guide/indexing.html#returning-a-view-versus-a-copy\n",
            "  \"\"\"Entry point for launching an IPython kernel.\n"
          ],
          "name": "stderr"
        }
      ]
    },
    {
      "cell_type": "code",
      "metadata": {
        "id": "QL3WwmnmCTX8",
        "colab": {
          "base_uri": "https://localhost:8080/",
          "height": 119
        },
        "outputId": "a0e3a542-28e4-4a4b-9b86-ea90f8c4cb49"
      },
      "source": [
        "phd_record_data['month'] = pd.DatetimeIndex(phd_record_data['Date']).month"
      ],
      "execution_count": null,
      "outputs": [
        {
          "output_type": "stream",
          "text": [
            "/usr/local/lib/python3.6/dist-packages/ipykernel_launcher.py:1: SettingWithCopyWarning: \n",
            "A value is trying to be set on a copy of a slice from a DataFrame.\n",
            "Try using .loc[row_indexer,col_indexer] = value instead\n",
            "\n",
            "See the caveats in the documentation: http://pandas.pydata.org/pandas-docs/stable/user_guide/indexing.html#returning-a-view-versus-a-copy\n",
            "  \"\"\"Entry point for launching an IPython kernel.\n"
          ],
          "name": "stderr"
        }
      ]
    },
    {
      "cell_type": "code",
      "metadata": {
        "id": "DtV1bVLv1cps",
        "colab": {
          "base_uri": "https://localhost:8080/",
          "height": 204
        },
        "outputId": "36080d62-7499-4b71-8585-5e4ab7015ef1"
      },
      "source": [
        "phd_record_data.tail()\n",
        "phd_record_data.head()"
      ],
      "execution_count": null,
      "outputs": [
        {
          "output_type": "execute_result",
          "data": {
            "text/html": [
              "<div>\n",
              "<style scoped>\n",
              "    .dataframe tbody tr th:only-of-type {\n",
              "        vertical-align: middle;\n",
              "    }\n",
              "\n",
              "    .dataframe tbody tr th {\n",
              "        vertical-align: top;\n",
              "    }\n",
              "\n",
              "    .dataframe thead th {\n",
              "        text-align: right;\n",
              "    }\n",
              "</style>\n",
              "<table border=\"1\" class=\"dataframe\">\n",
              "  <thead>\n",
              "    <tr style=\"text-align: right;\">\n",
              "      <th></th>\n",
              "      <th>SL.NO</th>\n",
              "      <th>Venue</th>\n",
              "      <th>Register No</th>\n",
              "      <th>First Name</th>\n",
              "      <th>Class</th>\n",
              "      <th>Department</th>\n",
              "      <th>Date</th>\n",
              "      <th>In Time</th>\n",
              "      <th>Out Time</th>\n",
              "      <th>Time Spend</th>\n",
              "      <th>singleclass</th>\n",
              "      <th>singlesem</th>\n",
              "      <th>s</th>\n",
              "      <th>month</th>\n",
              "    </tr>\n",
              "  </thead>\n",
              "  <tbody>\n",
              "    <tr>\n",
              "      <th>0</th>\n",
              "      <td>1</td>\n",
              "      <td>UG Library - Main campus</td>\n",
              "      <td>1740101</td>\n",
              "      <td>ABHAY TOMAR</td>\n",
              "      <td>3CME</td>\n",
              "      <td>COMPUTER SCIENCE</td>\n",
              "      <td>06/27/2018</td>\n",
              "      <td>11:40:32 AM</td>\n",
              "      <td>11:58:32 AM</td>\n",
              "      <td>2020-03-03 00:18:00</td>\n",
              "      <td>CME</td>\n",
              "      <td>3</td>\n",
              "      <td>NaN</td>\n",
              "      <td>6</td>\n",
              "    </tr>\n",
              "    <tr>\n",
              "      <th>1</th>\n",
              "      <td>2</td>\n",
              "      <td>UG Library - Main campus</td>\n",
              "      <td>1740101</td>\n",
              "      <td>ABHAY TOMAR</td>\n",
              "      <td>3CME</td>\n",
              "      <td>COMPUTER SCIENCE</td>\n",
              "      <td>07/16/2018</td>\n",
              "      <td>3:19:15 PM</td>\n",
              "      <td>3:57:01 PM</td>\n",
              "      <td>2020-03-03 00:37:46</td>\n",
              "      <td>CME</td>\n",
              "      <td>3</td>\n",
              "      <td>NaN</td>\n",
              "      <td>7</td>\n",
              "    </tr>\n",
              "    <tr>\n",
              "      <th>2</th>\n",
              "      <td>4</td>\n",
              "      <td>UG Library - Main campus</td>\n",
              "      <td>1740101</td>\n",
              "      <td>ABHAY TOMAR</td>\n",
              "      <td>3CME</td>\n",
              "      <td>COMPUTER SCIENCE</td>\n",
              "      <td>08/23/2018</td>\n",
              "      <td>4:38:23 PM</td>\n",
              "      <td>4:40:58 PM</td>\n",
              "      <td>2020-03-03 00:02:35</td>\n",
              "      <td>CME</td>\n",
              "      <td>3</td>\n",
              "      <td>NaN</td>\n",
              "      <td>8</td>\n",
              "    </tr>\n",
              "    <tr>\n",
              "      <th>3</th>\n",
              "      <td>5</td>\n",
              "      <td>UG Library - Main campus</td>\n",
              "      <td>1740101</td>\n",
              "      <td>ABHAY TOMAR</td>\n",
              "      <td>3CME</td>\n",
              "      <td>COMPUTER SCIENCE</td>\n",
              "      <td>09/07/2018</td>\n",
              "      <td>3:35:46 PM</td>\n",
              "      <td>4:01:28 PM</td>\n",
              "      <td>2020-03-03 00:25:42</td>\n",
              "      <td>CME</td>\n",
              "      <td>3</td>\n",
              "      <td>NaN</td>\n",
              "      <td>9</td>\n",
              "    </tr>\n",
              "    <tr>\n",
              "      <th>4</th>\n",
              "      <td>7</td>\n",
              "      <td>UG Library - Main campus</td>\n",
              "      <td>1740101</td>\n",
              "      <td>ABHAY TOMAR</td>\n",
              "      <td>3CME</td>\n",
              "      <td>COMPUTER SCIENCE</td>\n",
              "      <td>09/18/2018</td>\n",
              "      <td>3:59:51 PM</td>\n",
              "      <td>4:00:43 PM</td>\n",
              "      <td>2020-03-03 00:00:52</td>\n",
              "      <td>CME</td>\n",
              "      <td>3</td>\n",
              "      <td>NaN</td>\n",
              "      <td>9</td>\n",
              "    </tr>\n",
              "  </tbody>\n",
              "</table>\n",
              "</div>"
            ],
            "text/plain": [
              "   SL.NO                     Venue  Register No  ... singlesem   s month\n",
              "0      1  UG Library - Main campus      1740101  ...         3 NaN     6\n",
              "1      2  UG Library - Main campus      1740101  ...         3 NaN     7\n",
              "2      4  UG Library - Main campus      1740101  ...         3 NaN     8\n",
              "3      5  UG Library - Main campus      1740101  ...         3 NaN     9\n",
              "4      7  UG Library - Main campus      1740101  ...         3 NaN     9\n",
              "\n",
              "[5 rows x 14 columns]"
            ]
          },
          "metadata": {
            "tags": []
          },
          "execution_count": 175
        }
      ]
    },
    {
      "cell_type": "code",
      "metadata": {
        "id": "juZEAZJk0mdR",
        "colab": {
          "base_uri": "https://localhost:8080/",
          "height": 1000
        },
        "outputId": "06b31494-6cc1-429b-dcd6-75845629b2d3"
      },
      "source": [
        "for i in phd_record_data.index:\n",
        "  if(phd_record_data['month'][i] in [6,7,8]):\n",
        "     phd_record_data['month'][i]= \"Q1\"\n",
        "  elif(phd_record_data['month'][i] in [9,10,11]):\n",
        "     phd_record_data['month'][i]= \"Q2\"\n",
        "  elif(phd_record_data['month'][i] in [12,1,2]):\n",
        "     phd_record_data['month'][i]= \"Q3\"\n",
        "  else:\n",
        "      phd_record_data['month'][i]= \"Q4\"\n",
        "phd_record_data\n"
      ],
      "execution_count": null,
      "outputs": [
        {
          "output_type": "stream",
          "text": [
            "/usr/local/lib/python3.6/dist-packages/ipykernel_launcher.py:3: SettingWithCopyWarning: \n",
            "A value is trying to be set on a copy of a slice from a DataFrame\n",
            "\n",
            "See the caveats in the documentation: http://pandas.pydata.org/pandas-docs/stable/user_guide/indexing.html#returning-a-view-versus-a-copy\n",
            "  This is separate from the ipykernel package so we can avoid doing imports until\n",
            "/usr/local/lib/python3.6/dist-packages/pandas/core/indexing.py:205: SettingWithCopyWarning: \n",
            "A value is trying to be set on a copy of a slice from a DataFrame\n",
            "\n",
            "See the caveats in the documentation: http://pandas.pydata.org/pandas-docs/stable/user_guide/indexing.html#returning-a-view-versus-a-copy\n",
            "  self._setitem_with_indexer(indexer, value)\n",
            "/usr/local/lib/python3.6/dist-packages/pandas/core/series.py:1221: SettingWithCopyWarning: \n",
            "A value is trying to be set on a copy of a slice from a DataFrame\n",
            "\n",
            "See the caveats in the documentation: http://pandas.pydata.org/pandas-docs/stable/user_guide/indexing.html#returning-a-view-versus-a-copy\n",
            "  self.loc[key] = value\n",
            "/usr/local/lib/python3.6/dist-packages/IPython/core/interactiveshell.py:2882: SettingWithCopyWarning: \n",
            "A value is trying to be set on a copy of a slice from a DataFrame\n",
            "\n",
            "See the caveats in the documentation: http://pandas.pydata.org/pandas-docs/stable/user_guide/indexing.html#returning-a-view-versus-a-copy\n",
            "  exec(code_obj, self.user_global_ns, self.user_ns)\n",
            "/usr/local/lib/python3.6/dist-packages/ipykernel_launcher.py:5: SettingWithCopyWarning: \n",
            "A value is trying to be set on a copy of a slice from a DataFrame\n",
            "\n",
            "See the caveats in the documentation: http://pandas.pydata.org/pandas-docs/stable/user_guide/indexing.html#returning-a-view-versus-a-copy\n",
            "  \"\"\"\n",
            "/usr/local/lib/python3.6/dist-packages/ipykernel_launcher.py:7: SettingWithCopyWarning: \n",
            "A value is trying to be set on a copy of a slice from a DataFrame\n",
            "\n",
            "See the caveats in the documentation: http://pandas.pydata.org/pandas-docs/stable/user_guide/indexing.html#returning-a-view-versus-a-copy\n",
            "  import sys\n",
            "/usr/local/lib/python3.6/dist-packages/ipykernel_launcher.py:9: SettingWithCopyWarning: \n",
            "A value is trying to be set on a copy of a slice from a DataFrame\n",
            "\n",
            "See the caveats in the documentation: http://pandas.pydata.org/pandas-docs/stable/user_guide/indexing.html#returning-a-view-versus-a-copy\n",
            "  if __name__ == '__main__':\n"
          ],
          "name": "stderr"
        },
        {
          "output_type": "execute_result",
          "data": {
            "text/html": [
              "<div>\n",
              "<style scoped>\n",
              "    .dataframe tbody tr th:only-of-type {\n",
              "        vertical-align: middle;\n",
              "    }\n",
              "\n",
              "    .dataframe tbody tr th {\n",
              "        vertical-align: top;\n",
              "    }\n",
              "\n",
              "    .dataframe thead th {\n",
              "        text-align: right;\n",
              "    }\n",
              "</style>\n",
              "<table border=\"1\" class=\"dataframe\">\n",
              "  <thead>\n",
              "    <tr style=\"text-align: right;\">\n",
              "      <th></th>\n",
              "      <th>SL.NO</th>\n",
              "      <th>Venue</th>\n",
              "      <th>Register No</th>\n",
              "      <th>First Name</th>\n",
              "      <th>Class</th>\n",
              "      <th>Department</th>\n",
              "      <th>Date</th>\n",
              "      <th>In Time</th>\n",
              "      <th>Out Time</th>\n",
              "      <th>Time Spend</th>\n",
              "      <th>singleclass</th>\n",
              "      <th>singlesem</th>\n",
              "      <th>s</th>\n",
              "      <th>month</th>\n",
              "    </tr>\n",
              "  </thead>\n",
              "  <tbody>\n",
              "    <tr>\n",
              "      <th>0</th>\n",
              "      <td>1</td>\n",
              "      <td>UG Library - Main campus</td>\n",
              "      <td>1740101</td>\n",
              "      <td>ABHAY TOMAR</td>\n",
              "      <td>3CME</td>\n",
              "      <td>COMPUTER SCIENCE</td>\n",
              "      <td>06/27/2018</td>\n",
              "      <td>11:40:32 AM</td>\n",
              "      <td>11:58:32 AM</td>\n",
              "      <td>2020-03-03 00:18:00</td>\n",
              "      <td>CME</td>\n",
              "      <td>3</td>\n",
              "      <td>NaN</td>\n",
              "      <td>Q1</td>\n",
              "    </tr>\n",
              "    <tr>\n",
              "      <th>1</th>\n",
              "      <td>2</td>\n",
              "      <td>UG Library - Main campus</td>\n",
              "      <td>1740101</td>\n",
              "      <td>ABHAY TOMAR</td>\n",
              "      <td>3CME</td>\n",
              "      <td>COMPUTER SCIENCE</td>\n",
              "      <td>07/16/2018</td>\n",
              "      <td>3:19:15 PM</td>\n",
              "      <td>3:57:01 PM</td>\n",
              "      <td>2020-03-03 00:37:46</td>\n",
              "      <td>CME</td>\n",
              "      <td>3</td>\n",
              "      <td>NaN</td>\n",
              "      <td>Q1</td>\n",
              "    </tr>\n",
              "    <tr>\n",
              "      <th>2</th>\n",
              "      <td>4</td>\n",
              "      <td>UG Library - Main campus</td>\n",
              "      <td>1740101</td>\n",
              "      <td>ABHAY TOMAR</td>\n",
              "      <td>3CME</td>\n",
              "      <td>COMPUTER SCIENCE</td>\n",
              "      <td>08/23/2018</td>\n",
              "      <td>4:38:23 PM</td>\n",
              "      <td>4:40:58 PM</td>\n",
              "      <td>2020-03-03 00:02:35</td>\n",
              "      <td>CME</td>\n",
              "      <td>3</td>\n",
              "      <td>NaN</td>\n",
              "      <td>Q1</td>\n",
              "    </tr>\n",
              "    <tr>\n",
              "      <th>3</th>\n",
              "      <td>5</td>\n",
              "      <td>UG Library - Main campus</td>\n",
              "      <td>1740101</td>\n",
              "      <td>ABHAY TOMAR</td>\n",
              "      <td>3CME</td>\n",
              "      <td>COMPUTER SCIENCE</td>\n",
              "      <td>09/07/2018</td>\n",
              "      <td>3:35:46 PM</td>\n",
              "      <td>4:01:28 PM</td>\n",
              "      <td>2020-03-03 00:25:42</td>\n",
              "      <td>CME</td>\n",
              "      <td>3</td>\n",
              "      <td>NaN</td>\n",
              "      <td>Q2</td>\n",
              "    </tr>\n",
              "    <tr>\n",
              "      <th>4</th>\n",
              "      <td>7</td>\n",
              "      <td>UG Library - Main campus</td>\n",
              "      <td>1740101</td>\n",
              "      <td>ABHAY TOMAR</td>\n",
              "      <td>3CME</td>\n",
              "      <td>COMPUTER SCIENCE</td>\n",
              "      <td>09/18/2018</td>\n",
              "      <td>3:59:51 PM</td>\n",
              "      <td>4:00:43 PM</td>\n",
              "      <td>2020-03-03 00:00:52</td>\n",
              "      <td>CME</td>\n",
              "      <td>3</td>\n",
              "      <td>NaN</td>\n",
              "      <td>Q2</td>\n",
              "    </tr>\n",
              "    <tr>\n",
              "      <th>...</th>\n",
              "      <td>...</td>\n",
              "      <td>...</td>\n",
              "      <td>...</td>\n",
              "      <td>...</td>\n",
              "      <td>...</td>\n",
              "      <td>...</td>\n",
              "      <td>...</td>\n",
              "      <td>...</td>\n",
              "      <td>...</td>\n",
              "      <td>...</td>\n",
              "      <td>...</td>\n",
              "      <td>...</td>\n",
              "      <td>...</td>\n",
              "      <td>...</td>\n",
              "    </tr>\n",
              "    <tr>\n",
              "      <th>12679</th>\n",
              "      <td>17996</td>\n",
              "      <td>Knowledge Center - Main campus</td>\n",
              "      <td>1847267</td>\n",
              "      <td>KUMAR NAVIN BARNWAL</td>\n",
              "      <td>3MCA</td>\n",
              "      <td>COMPUTER SCIENCE</td>\n",
              "      <td>05/04/2019</td>\n",
              "      <td>1:39:11 PM</td>\n",
              "      <td>1:57:20 PM</td>\n",
              "      <td>2020-03-03 00:18:09</td>\n",
              "      <td>MCA</td>\n",
              "      <td>3</td>\n",
              "      <td>NaN</td>\n",
              "      <td>Q4</td>\n",
              "    </tr>\n",
              "    <tr>\n",
              "      <th>12680</th>\n",
              "      <td>17998</td>\n",
              "      <td>Knowledge Center - Main campus</td>\n",
              "      <td>1847267</td>\n",
              "      <td>KUMAR NAVIN BARNWAL</td>\n",
              "      <td>3MCA</td>\n",
              "      <td>COMPUTER SCIENCE</td>\n",
              "      <td>05/20/2019</td>\n",
              "      <td>1:34:24 PM</td>\n",
              "      <td>1:41:47 PM</td>\n",
              "      <td>2020-03-03 00:07:23</td>\n",
              "      <td>MCA</td>\n",
              "      <td>3</td>\n",
              "      <td>NaN</td>\n",
              "      <td>Q4</td>\n",
              "    </tr>\n",
              "    <tr>\n",
              "      <th>12681</th>\n",
              "      <td>17999</td>\n",
              "      <td>Knowledge Center - Main campus</td>\n",
              "      <td>1847267</td>\n",
              "      <td>KUMAR NAVIN BARNWAL</td>\n",
              "      <td>3MCA</td>\n",
              "      <td>COMPUTER SCIENCE</td>\n",
              "      <td>05/20/2019</td>\n",
              "      <td>1:42:43 PM</td>\n",
              "      <td>2:14:45 PM</td>\n",
              "      <td>2020-03-03 00:32:02</td>\n",
              "      <td>MCA</td>\n",
              "      <td>3</td>\n",
              "      <td>NaN</td>\n",
              "      <td>Q4</td>\n",
              "    </tr>\n",
              "    <tr>\n",
              "      <th>12682</th>\n",
              "      <td>18000</td>\n",
              "      <td>Knowledge Center - Main campus</td>\n",
              "      <td>1847267</td>\n",
              "      <td>KUMAR NAVIN BARNWAL</td>\n",
              "      <td>3MCA</td>\n",
              "      <td>COMPUTER SCIENCE</td>\n",
              "      <td>05/20/2019</td>\n",
              "      <td>2:30:57 PM</td>\n",
              "      <td>3:17:38 PM</td>\n",
              "      <td>2020-03-03 00:46:41</td>\n",
              "      <td>MCA</td>\n",
              "      <td>3</td>\n",
              "      <td>NaN</td>\n",
              "      <td>Q4</td>\n",
              "    </tr>\n",
              "    <tr>\n",
              "      <th>12683</th>\n",
              "      <td>18001</td>\n",
              "      <td>Knowledge Center - Main campus</td>\n",
              "      <td>1847267</td>\n",
              "      <td>KUMAR NAVIN BARNWAL</td>\n",
              "      <td>3MCA</td>\n",
              "      <td>COMPUTER SCIENCE</td>\n",
              "      <td>05/20/2019</td>\n",
              "      <td>3:19:31 PM</td>\n",
              "      <td>4:09:41 PM</td>\n",
              "      <td>2020-03-03 00:50:10</td>\n",
              "      <td>MCA</td>\n",
              "      <td>3</td>\n",
              "      <td>NaN</td>\n",
              "      <td>Q4</td>\n",
              "    </tr>\n",
              "  </tbody>\n",
              "</table>\n",
              "<p>12683 rows × 14 columns</p>\n",
              "</div>"
            ],
            "text/plain": [
              "       SL.NO                           Venue  Register No  ... singlesem   s month\n",
              "0          1        UG Library - Main campus      1740101  ...         3 NaN    Q1\n",
              "1          2        UG Library - Main campus      1740101  ...         3 NaN    Q1\n",
              "2          4        UG Library - Main campus      1740101  ...         3 NaN    Q1\n",
              "3          5        UG Library - Main campus      1740101  ...         3 NaN    Q2\n",
              "4          7        UG Library - Main campus      1740101  ...         3 NaN    Q2\n",
              "...      ...                             ...          ...  ...       ...  ..   ...\n",
              "12679  17996  Knowledge Center - Main campus      1847267  ...         3 NaN    Q4\n",
              "12680  17998  Knowledge Center - Main campus      1847267  ...         3 NaN    Q4\n",
              "12681  17999  Knowledge Center - Main campus      1847267  ...         3 NaN    Q4\n",
              "12682  18000  Knowledge Center - Main campus      1847267  ...         3 NaN    Q4\n",
              "12683  18001  Knowledge Center - Main campus      1847267  ...         3 NaN    Q4\n",
              "\n",
              "[12683 rows x 14 columns]"
            ]
          },
          "metadata": {
            "tags": []
          },
          "execution_count": 176
        }
      ]
    },
    {
      "cell_type": "code",
      "metadata": {
        "id": "sHh8o5Al6SYt",
        "colab": {
          "base_uri": "https://localhost:8080/",
          "height": 303
        },
        "outputId": "2756543d-4d5c-4e06-9d7d-89d0ef679441"
      },
      "source": [
        "#Quarterly based analysis\n",
        "#Q1 Jun Jul Aug Q2 Sep Oct Nov Q3 Dec Jan Feb Q4 Mar Apr May\n",
        "phd_record_data.groupby(['month']).count()\n",
        "grouped = phd_record_data.groupby(['month'])\n",
        "size = grouped.size()\n",
        "size\n",
        "size.plot.bar()"
      ],
      "execution_count": null,
      "outputs": [
        {
          "output_type": "execute_result",
          "data": {
            "text/plain": [
              "<matplotlib.axes._subplots.AxesSubplot at 0x7faa62763f28>"
            ]
          },
          "metadata": {
            "tags": []
          },
          "execution_count": 177
        },
        {
          "output_type": "display_data",
          "data": {
            "image/png": "[encoded data removed]",
            "text/plain": [
              "<Figure size 432x288 with 1 Axes>"
            ]
          },
          "metadata": {
            "tags": []
          }
        }
      ]
    },
    {
      "cell_type": "code",
      "metadata": {
        "id": "geiBclRh3Eqw",
        "colab": {
          "base_uri": "https://localhost:8080/",
          "height": 85
        },
        "outputId": "008cd88a-bd85-404e-a811-a6411df19149"
      },
      "source": [
        "print(phd_record_data.columns)"
      ],
      "execution_count": null,
      "outputs": [
        {
          "output_type": "stream",
          "text": [
            "Index(['SL.NO', 'Venue', 'Register No', 'First Name', 'Class', 'Department',\n",
            "       'Date', 'In Time', 'Out Time', 'Time Spend', 'singleclass', 'singlesem',\n",
            "       's', 'month'],\n",
            "      dtype='object')\n"
          ],
          "name": "stdout"
        }
      ]
    },
    {
      "cell_type": "code",
      "metadata": {
        "id": "vhty2XbTNfMV",
        "colab": {
          "base_uri": "https://localhost:8080/",
          "height": 221
        },
        "outputId": "7183500c-239e-4046-edea-48cb1fbc362a"
      },
      "source": [
        "phd_record_data['Time Spend']"
      ],
      "execution_count": null,
      "outputs": [
        {
          "output_type": "execute_result",
          "data": {
            "text/plain": [
              "0       2020-03-03 00:18:00\n",
              "1       2020-03-03 00:37:46\n",
              "2       2020-03-03 00:02:35\n",
              "3       2020-03-03 00:25:42\n",
              "4       2020-03-03 00:00:52\n",
              "                ...        \n",
              "12679   2020-03-03 00:18:09\n",
              "12680   2020-03-03 00:07:23\n",
              "12681   2020-03-03 00:32:02\n",
              "12682   2020-03-03 00:46:41\n",
              "12683   2020-03-03 00:50:10\n",
              "Name: Time Spend, Length: 12683, dtype: datetime64[ns]"
            ]
          },
          "metadata": {
            "tags": []
          },
          "execution_count": 17
        }
      ]
    },
    {
      "cell_type": "code",
      "metadata": {
        "id": "kqeiae7CNT9D",
        "colab": {
          "base_uri": "https://localhost:8080/",
          "height": 563
        },
        "outputId": "606c5bd1-faca-4650-f24e-b74fd02fe34f"
      },
      "source": [
        "phd_record_data['Time_In_Min'] = phd_record_data['Time Spend'].apply(lambda x: sum([a*b for a,b in zip(list(map(int,x.split(':')))[::-1],[1/60,1,60])]))\n",
        "phd_record_data['Time_In_Min']\n",
        "phd_record_data['Time_In_Min'] = pd.to_numeric(phd_record_data['Time2'])\n",
        "phd_record_data.head(10)"
      ],
      "execution_count": null,
      "outputs": [
        {
          "output_type": "stream",
          "text": [
            "/usr/local/lib/python3.6/dist-packages/ipykernel_launcher.py:1: SettingWithCopyWarning: \n",
            "A value is trying to be set on a copy of a slice from a DataFrame.\n",
            "Try using .loc[row_indexer,col_indexer] = value instead\n",
            "\n",
            "See the caveats in the documentation: http://pandas.pydata.org/pandas-docs/stable/user_guide/indexing.html#returning-a-view-versus-a-copy\n",
            "  \"\"\"Entry point for launching an IPython kernel.\n",
            "/usr/local/lib/python3.6/dist-packages/ipykernel_launcher.py:3: SettingWithCopyWarning: \n",
            "A value is trying to be set on a copy of a slice from a DataFrame.\n",
            "Try using .loc[row_indexer,col_indexer] = value instead\n",
            "\n",
            "See the caveats in the documentation: http://pandas.pydata.org/pandas-docs/stable/user_guide/indexing.html#returning-a-view-versus-a-copy\n",
            "  This is separate from the ipykernel package so we can avoid doing imports until\n"
          ],
          "name": "stderr"
        },
        {
          "output_type": "execute_result",
          "data": {
            "text/html": [
              "<div>\n",
              "<style scoped>\n",
              "    .dataframe tbody tr th:only-of-type {\n",
              "        vertical-align: middle;\n",
              "    }\n",
              "\n",
              "    .dataframe tbody tr th {\n",
              "        vertical-align: top;\n",
              "    }\n",
              "\n",
              "    .dataframe thead th {\n",
              "        text-align: right;\n",
              "    }\n",
              "</style>\n",
              "<table border=\"1\" class=\"dataframe\">\n",
              "  <thead>\n",
              "    <tr style=\"text-align: right;\">\n",
              "      <th></th>\n",
              "      <th>SL.NO</th>\n",
              "      <th>Venue</th>\n",
              "      <th>Register No</th>\n",
              "      <th>First Name</th>\n",
              "      <th>Class</th>\n",
              "      <th>Department</th>\n",
              "      <th>Date</th>\n",
              "      <th>In Time</th>\n",
              "      <th>Out Time</th>\n",
              "      <th>Time Spend</th>\n",
              "      <th>Time2</th>\n",
              "      <th>Time_In_Min</th>\n",
              "    </tr>\n",
              "  </thead>\n",
              "  <tbody>\n",
              "    <tr>\n",
              "      <th>0</th>\n",
              "      <td>1</td>\n",
              "      <td>UG Library - Main campus</td>\n",
              "      <td>1740101</td>\n",
              "      <td>ABHAY TOMAR</td>\n",
              "      <td>3CME</td>\n",
              "      <td>COMPUTER SCIENCE</td>\n",
              "      <td>27/06/2018</td>\n",
              "      <td>11:40:32 AM</td>\n",
              "      <td>11:58:32 AM</td>\n",
              "      <td>0:18:00</td>\n",
              "      <td>18.000000</td>\n",
              "      <td>18.000000</td>\n",
              "    </tr>\n",
              "    <tr>\n",
              "      <th>1</th>\n",
              "      <td>2</td>\n",
              "      <td>UG Library - Main campus</td>\n",
              "      <td>1740101</td>\n",
              "      <td>ABHAY TOMAR</td>\n",
              "      <td>3CME</td>\n",
              "      <td>COMPUTER SCIENCE</td>\n",
              "      <td>16/07/2018</td>\n",
              "      <td>3:19:15 PM</td>\n",
              "      <td>3:57:01 PM</td>\n",
              "      <td>0:37:46</td>\n",
              "      <td>37.766667</td>\n",
              "      <td>37.766667</td>\n",
              "    </tr>\n",
              "    <tr>\n",
              "      <th>2</th>\n",
              "      <td>4</td>\n",
              "      <td>UG Library - Main campus</td>\n",
              "      <td>1740101</td>\n",
              "      <td>ABHAY TOMAR</td>\n",
              "      <td>3CME</td>\n",
              "      <td>COMPUTER SCIENCE</td>\n",
              "      <td>23/08/2018</td>\n",
              "      <td>4:38:23 PM</td>\n",
              "      <td>4:40:58 PM</td>\n",
              "      <td>0:02:35</td>\n",
              "      <td>2.583333</td>\n",
              "      <td>2.583333</td>\n",
              "    </tr>\n",
              "    <tr>\n",
              "      <th>3</th>\n",
              "      <td>5</td>\n",
              "      <td>UG Library - Main campus</td>\n",
              "      <td>1740101</td>\n",
              "      <td>ABHAY TOMAR</td>\n",
              "      <td>3CME</td>\n",
              "      <td>COMPUTER SCIENCE</td>\n",
              "      <td>7/9/2018</td>\n",
              "      <td>3:35:46 PM</td>\n",
              "      <td>4:01:28 PM</td>\n",
              "      <td>0:25:42</td>\n",
              "      <td>25.700000</td>\n",
              "      <td>25.700000</td>\n",
              "    </tr>\n",
              "    <tr>\n",
              "      <th>4</th>\n",
              "      <td>7</td>\n",
              "      <td>UG Library - Main campus</td>\n",
              "      <td>1740101</td>\n",
              "      <td>ABHAY TOMAR</td>\n",
              "      <td>3CME</td>\n",
              "      <td>COMPUTER SCIENCE</td>\n",
              "      <td>18/09/2018</td>\n",
              "      <td>3:59:51 PM</td>\n",
              "      <td>4:00:43 PM</td>\n",
              "      <td>0:00:52</td>\n",
              "      <td>0.866667</td>\n",
              "      <td>0.866667</td>\n",
              "    </tr>\n",
              "    <tr>\n",
              "      <th>5</th>\n",
              "      <td>10</td>\n",
              "      <td>UG Library - Main campus</td>\n",
              "      <td>1740101</td>\n",
              "      <td>ABHAY TOMAR</td>\n",
              "      <td>3CME</td>\n",
              "      <td>COMPUTER SCIENCE</td>\n",
              "      <td>19/09/2018</td>\n",
              "      <td>11:11:01 AM</td>\n",
              "      <td>11:19:06 AM</td>\n",
              "      <td>0:08:05</td>\n",
              "      <td>8.083333</td>\n",
              "      <td>8.083333</td>\n",
              "    </tr>\n",
              "    <tr>\n",
              "      <th>6</th>\n",
              "      <td>11</td>\n",
              "      <td>UG Library - Main campus</td>\n",
              "      <td>1740101</td>\n",
              "      <td>ABHAY TOMAR</td>\n",
              "      <td>4CME</td>\n",
              "      <td>COMPUTER SCIENCE</td>\n",
              "      <td>16/11/2018</td>\n",
              "      <td>12:11:58 PM</td>\n",
              "      <td>12:17:44 PM</td>\n",
              "      <td>0:05:46</td>\n",
              "      <td>5.766667</td>\n",
              "      <td>5.766667</td>\n",
              "    </tr>\n",
              "    <tr>\n",
              "      <th>7</th>\n",
              "      <td>12</td>\n",
              "      <td>UG Library - Main campus</td>\n",
              "      <td>1740101</td>\n",
              "      <td>ABHAY TOMAR</td>\n",
              "      <td>4CME</td>\n",
              "      <td>COMPUTER SCIENCE</td>\n",
              "      <td>27/11/2018</td>\n",
              "      <td>12:10:06 PM</td>\n",
              "      <td>12:21:19 PM</td>\n",
              "      <td>0:11:13</td>\n",
              "      <td>11.216667</td>\n",
              "      <td>11.216667</td>\n",
              "    </tr>\n",
              "    <tr>\n",
              "      <th>8</th>\n",
              "      <td>13</td>\n",
              "      <td>UG Library - Main campus</td>\n",
              "      <td>1740101</td>\n",
              "      <td>ABHAY TOMAR</td>\n",
              "      <td>4CME</td>\n",
              "      <td>COMPUTER SCIENCE</td>\n",
              "      <td>11/12/2018</td>\n",
              "      <td>11:01:41 AM</td>\n",
              "      <td>12:40:18 PM</td>\n",
              "      <td>1:38:37</td>\n",
              "      <td>98.616667</td>\n",
              "      <td>98.616667</td>\n",
              "    </tr>\n",
              "    <tr>\n",
              "      <th>9</th>\n",
              "      <td>14</td>\n",
              "      <td>UG Library - Main campus</td>\n",
              "      <td>1740101</td>\n",
              "      <td>ABHAY TOMAR</td>\n",
              "      <td>4CME</td>\n",
              "      <td>COMPUTER SCIENCE</td>\n",
              "      <td>11/12/2018</td>\n",
              "      <td>3:16:17 PM</td>\n",
              "      <td>3:55:38 PM</td>\n",
              "      <td>0:39:21</td>\n",
              "      <td>39.350000</td>\n",
              "      <td>39.350000</td>\n",
              "    </tr>\n",
              "  </tbody>\n",
              "</table>\n",
              "</div>"
            ],
            "text/plain": [
              "   SL.NO                     Venue  ...      Time2 Time_In_Min\n",
              "0      1  UG Library - Main campus  ...  18.000000   18.000000\n",
              "1      2  UG Library - Main campus  ...  37.766667   37.766667\n",
              "2      4  UG Library - Main campus  ...   2.583333    2.583333\n",
              "3      5  UG Library - Main campus  ...  25.700000   25.700000\n",
              "4      7  UG Library - Main campus  ...   0.866667    0.866667\n",
              "5     10  UG Library - Main campus  ...   8.083333    8.083333\n",
              "6     11  UG Library - Main campus  ...   5.766667    5.766667\n",
              "7     12  UG Library - Main campus  ...  11.216667   11.216667\n",
              "8     13  UG Library - Main campus  ...  98.616667   98.616667\n",
              "9     14  UG Library - Main campus  ...  39.350000   39.350000\n",
              "\n",
              "[10 rows x 12 columns]"
            ]
          },
          "metadata": {
            "tags": []
          },
          "execution_count": 44
        }
      ]
    },
    {
      "cell_type": "code",
      "metadata": {
        "id": "_KnK-POOSIjO",
        "colab": {
          "base_uri": "https://localhost:8080/",
          "height": 450
        },
        "outputId": "502d8ac5-af75-4e79-9d2c-51f17e94eba6"
      },
      "source": [
        "phd_record_data.groupby(['First Name','Time_In_Min']).agg(lambda x:x.value_counts().index[0])"
      ],
      "execution_count": null,
      "outputs": [
        {
          "output_type": "execute_result",
          "data": {
            "text/html": [
              "<div>\n",
              "<style scoped>\n",
              "    .dataframe tbody tr th:only-of-type {\n",
              "        vertical-align: middle;\n",
              "    }\n",
              "\n",
              "    .dataframe tbody tr th {\n",
              "        vertical-align: top;\n",
              "    }\n",
              "\n",
              "    .dataframe thead th {\n",
              "        text-align: right;\n",
              "    }\n",
              "</style>\n",
              "<table border=\"1\" class=\"dataframe\">\n",
              "  <thead>\n",
              "    <tr style=\"text-align: right;\">\n",
              "      <th></th>\n",
              "      <th></th>\n",
              "      <th>SL.NO</th>\n",
              "      <th>Venue</th>\n",
              "      <th>Register No</th>\n",
              "      <th>Class</th>\n",
              "      <th>Department</th>\n",
              "      <th>Date</th>\n",
              "      <th>In Time</th>\n",
              "      <th>Out Time</th>\n",
              "      <th>Time Spend</th>\n",
              "      <th>Time2</th>\n",
              "    </tr>\n",
              "    <tr>\n",
              "      <th>First Name</th>\n",
              "      <th>Time_In_Min</th>\n",
              "      <th></th>\n",
              "      <th></th>\n",
              "      <th></th>\n",
              "      <th></th>\n",
              "      <th></th>\n",
              "      <th></th>\n",
              "      <th></th>\n",
              "      <th></th>\n",
              "      <th></th>\n",
              "      <th></th>\n",
              "    </tr>\n",
              "  </thead>\n",
              "  <tbody>\n",
              "    <tr>\n",
              "      <th rowspan=\"5\" valign=\"top\">AAKASH A</th>\n",
              "      <th>0.716667</th>\n",
              "      <td>16470</td>\n",
              "      <td>UG Library - Main campus</td>\n",
              "      <td>1847001</td>\n",
              "      <td>2MSCSA</td>\n",
              "      <td>COMPUTER SCIENCE</td>\n",
              "      <td>16/02/2019</td>\n",
              "      <td>1:54:32 PM</td>\n",
              "      <td>1:55:15 PM</td>\n",
              "      <td>0:00:43</td>\n",
              "      <td>0.716667</td>\n",
              "    </tr>\n",
              "    <tr>\n",
              "      <th>29.616667</th>\n",
              "      <td>16462</td>\n",
              "      <td>Knowledge Center - Main campus</td>\n",
              "      <td>1847001</td>\n",
              "      <td>1MSCSA</td>\n",
              "      <td>COMPUTER SCIENCE</td>\n",
              "      <td>31/08/2018</td>\n",
              "      <td>12:28:04 PM</td>\n",
              "      <td>12:57:41 PM</td>\n",
              "      <td>0:29:37</td>\n",
              "      <td>29.616667</td>\n",
              "    </tr>\n",
              "    <tr>\n",
              "      <th>35.300000</th>\n",
              "      <td>16466</td>\n",
              "      <td>Knowledge Center - Main campus</td>\n",
              "      <td>1847001</td>\n",
              "      <td>1MSCSA</td>\n",
              "      <td>COMPUTER SCIENCE</td>\n",
              "      <td>31/08/2018</td>\n",
              "      <td>4:39:06 PM</td>\n",
              "      <td>5:14:24 PM</td>\n",
              "      <td>0:35:18</td>\n",
              "      <td>35.300000</td>\n",
              "    </tr>\n",
              "    <tr>\n",
              "      <th>43.966667</th>\n",
              "      <td>16469</td>\n",
              "      <td>Knowledge Center - Main campus</td>\n",
              "      <td>1847001</td>\n",
              "      <td>2MSCSA</td>\n",
              "      <td>COMPUTER SCIENCE</td>\n",
              "      <td>12/1/2019</td>\n",
              "      <td>12:03:38 PM</td>\n",
              "      <td>12:47:36 PM</td>\n",
              "      <td>0:43:58</td>\n",
              "      <td>43.966667</td>\n",
              "    </tr>\n",
              "    <tr>\n",
              "      <th>58.816667</th>\n",
              "      <td>16463</td>\n",
              "      <td>Knowledge Center - Main campus</td>\n",
              "      <td>1847001</td>\n",
              "      <td>1MSCSA</td>\n",
              "      <td>COMPUTER SCIENCE</td>\n",
              "      <td>31/08/2018</td>\n",
              "      <td>1:00:31 PM</td>\n",
              "      <td>1:59:20 PM</td>\n",
              "      <td>0:58:49</td>\n",
              "      <td>58.816667</td>\n",
              "    </tr>\n",
              "    <tr>\n",
              "      <th>...</th>\n",
              "      <th>...</th>\n",
              "      <td>...</td>\n",
              "      <td>...</td>\n",
              "      <td>...</td>\n",
              "      <td>...</td>\n",
              "      <td>...</td>\n",
              "      <td>...</td>\n",
              "      <td>...</td>\n",
              "      <td>...</td>\n",
              "      <td>...</td>\n",
              "      <td>...</td>\n",
              "    </tr>\n",
              "    <tr>\n",
              "      <th rowspan=\"5\" valign=\"top\">ZAINAB JUZER KAPADIA</th>\n",
              "      <th>106.866667</th>\n",
              "      <td>1295</td>\n",
              "      <td>Knowledge Center - Main campus</td>\n",
              "      <td>1740154</td>\n",
              "      <td>3CME</td>\n",
              "      <td>COMPUTER SCIENCE</td>\n",
              "      <td>30/07/2018</td>\n",
              "      <td>4:28:24 PM</td>\n",
              "      <td>6:15:16 PM</td>\n",
              "      <td>1:46:52</td>\n",
              "      <td>106.866667</td>\n",
              "    </tr>\n",
              "    <tr>\n",
              "      <th>109.866667</th>\n",
              "      <td>1339</td>\n",
              "      <td>Knowledge Center - Main campus</td>\n",
              "      <td>1740154</td>\n",
              "      <td>4CME</td>\n",
              "      <td>COMPUTER SCIENCE</td>\n",
              "      <td>16/11/2018</td>\n",
              "      <td>4:13:23 PM</td>\n",
              "      <td>6:03:15 PM</td>\n",
              "      <td>1:49:52</td>\n",
              "      <td>109.866667</td>\n",
              "    </tr>\n",
              "    <tr>\n",
              "      <th>119.966667</th>\n",
              "      <td>1349</td>\n",
              "      <td>UG Library - Main campus</td>\n",
              "      <td>1740154</td>\n",
              "      <td>4CME</td>\n",
              "      <td>COMPUTER SCIENCE</td>\n",
              "      <td>11/12/2018</td>\n",
              "      <td>11:10:08 AM</td>\n",
              "      <td>1:10:06 PM</td>\n",
              "      <td>1:59:58</td>\n",
              "      <td>119.966667</td>\n",
              "    </tr>\n",
              "    <tr>\n",
              "      <th>128.450000</th>\n",
              "      <td>1299</td>\n",
              "      <td>Knowledge Center - Main campus</td>\n",
              "      <td>1740154</td>\n",
              "      <td>3CME</td>\n",
              "      <td>COMPUTER SCIENCE</td>\n",
              "      <td>1/8/2018</td>\n",
              "      <td>11:12:34 AM</td>\n",
              "      <td>1:21:01 PM</td>\n",
              "      <td>2:08:27</td>\n",
              "      <td>128.450000</td>\n",
              "    </tr>\n",
              "    <tr>\n",
              "      <th>128.516667</th>\n",
              "      <td>1388</td>\n",
              "      <td>UG Library - Main campus</td>\n",
              "      <td>1740154</td>\n",
              "      <td>4CME</td>\n",
              "      <td>COMPUTER SCIENCE</td>\n",
              "      <td>19/03/2019</td>\n",
              "      <td>11:06:22 AM</td>\n",
              "      <td>1:14:53 PM</td>\n",
              "      <td>2:08:31</td>\n",
              "      <td>128.516667</td>\n",
              "    </tr>\n",
              "  </tbody>\n",
              "</table>\n",
              "<p>12529 rows × 10 columns</p>\n",
              "</div>"
            ],
            "text/plain": [
              "                                  SL.NO  ...       Time2\n",
              "First Name           Time_In_Min         ...            \n",
              "AAKASH A             0.716667     16470  ...    0.716667\n",
              "                     29.616667    16462  ...   29.616667\n",
              "                     35.300000    16466  ...   35.300000\n",
              "                     43.966667    16469  ...   43.966667\n",
              "                     58.816667    16463  ...   58.816667\n",
              "...                                 ...  ...         ...\n",
              "ZAINAB JUZER KAPADIA 106.866667    1295  ...  106.866667\n",
              "                     109.866667    1339  ...  109.866667\n",
              "                     119.966667    1349  ...  119.966667\n",
              "                     128.450000    1299  ...  128.450000\n",
              "                     128.516667    1388  ...  128.516667\n",
              "\n",
              "[12529 rows x 10 columns]"
            ]
          },
          "metadata": {
            "tags": []
          },
          "execution_count": 45
        }
      ]
    },
    {
      "cell_type": "code",
      "metadata": {
        "id": "HlE8hBiuVeoY",
        "colab": {
          "base_uri": "https://localhost:8080/"
        },
        "outputId": "2123549b-4efe-4d95-b0a1-8562bf3cae2f"
      },
      "source": [
        "pd.crosstab(phd_record_data.Class,phd_record_data.Time_In_Min).plot(kind=\"bar\",figsize=(100,15))"
      ],
      "execution_count": null,
      "outputs": [
        {
          "output_type": "error",
          "ename": "AttributeError",
          "evalue": "ignored",
          "traceback": [
            "\u001b[0;31m---------------------------------------------------------------------------\u001b[0m",
            "\u001b[0;31mAttributeError\u001b[0m                            Traceback (most recent call last)",
            "\u001b[0;32m<ipython-input-48-32c4e1c87559>\u001b[0m in \u001b[0;36m<module>\u001b[0;34m()\u001b[0m\n\u001b[1;32m      1\u001b[0m \u001b[0mpd\u001b[0m\u001b[0;34m.\u001b[0m\u001b[0mcrosstab\u001b[0m\u001b[0;34m(\u001b[0m\u001b[0mphd_record_data\u001b[0m\u001b[0;34m.\u001b[0m\u001b[0mClass\u001b[0m\u001b[0;34m,\u001b[0m\u001b[0mphd_record_data\u001b[0m\u001b[0;34m.\u001b[0m\u001b[0mTime_In_Min\u001b[0m\u001b[0;34m)\u001b[0m\u001b[0;34m.\u001b[0m\u001b[0mplot\u001b[0m\u001b[0;34m(\u001b[0m\u001b[0mkind\u001b[0m\u001b[0;34m=\u001b[0m\u001b[0;34m\"bar\"\u001b[0m\u001b[0;34m,\u001b[0m\u001b[0mfigsize\u001b[0m\u001b[0;34m=\u001b[0m\u001b[0;34m(\u001b[0m\u001b[0;36m100\u001b[0m\u001b[0;34m,\u001b[0m\u001b[0;36m15\u001b[0m\u001b[0;34m)\u001b[0m\u001b[0;34m)\u001b[0m\u001b[0;34m\u001b[0m\u001b[0;34m\u001b[0m\u001b[0m\n\u001b[0;32m----> 2\u001b[0;31m \u001b[0mplot\u001b[0m\u001b[0;34m.\u001b[0m\u001b[0mshow\u001b[0m\u001b[0;34m(\u001b[0m\u001b[0;34m)\u001b[0m\u001b[0;34m\u001b[0m\u001b[0;34m\u001b[0m\u001b[0m\n\u001b[0m",
            "\u001b[0;31mAttributeError\u001b[0m: module 'matplotlib' has no attribute 'show'"
          ]
        },
        {
          "output_type": "error",
          "ename": "ValueError",
          "evalue": "ignored",
          "traceback": [
            "\u001b[0;31m---------------------------------------------------------------------------\u001b[0m",
            "\u001b[0;31mValueError\u001b[0m                                Traceback (most recent call last)",
            "\u001b[0;32m/usr/local/lib/python3.6/dist-packages/IPython/core/formatters.py\u001b[0m in \u001b[0;36m__call__\u001b[0;34m(self, obj)\u001b[0m\n\u001b[1;32m    332\u001b[0m                 \u001b[0;32mpass\u001b[0m\u001b[0;34m\u001b[0m\u001b[0;34m\u001b[0m\u001b[0m\n\u001b[1;32m    333\u001b[0m             \u001b[0;32melse\u001b[0m\u001b[0;34m:\u001b[0m\u001b[0;34m\u001b[0m\u001b[0;34m\u001b[0m\u001b[0m\n\u001b[0;32m--> 334\u001b[0;31m                 \u001b[0;32mreturn\u001b[0m \u001b[0mprinter\u001b[0m\u001b[0;34m(\u001b[0m\u001b[0mobj\u001b[0m\u001b[0;34m)\u001b[0m\u001b[0;34m\u001b[0m\u001b[0;34m\u001b[0m\u001b[0m\n\u001b[0m\u001b[1;32m    335\u001b[0m             \u001b[0;31m# Finally look for special method names\u001b[0m\u001b[0;34m\u001b[0m\u001b[0;34m\u001b[0m\u001b[0;34m\u001b[0m\u001b[0m\n\u001b[1;32m    336\u001b[0m             \u001b[0mmethod\u001b[0m \u001b[0;34m=\u001b[0m \u001b[0mget_real_method\u001b[0m\u001b[0;34m(\u001b[0m\u001b[0mobj\u001b[0m\u001b[0;34m,\u001b[0m \u001b[0mself\u001b[0m\u001b[0;34m.\u001b[0m\u001b[0mprint_method\u001b[0m\u001b[0;34m)\u001b[0m\u001b[0;34m\u001b[0m\u001b[0;34m\u001b[0m\u001b[0m\n",
            "\u001b[0;32m/usr/local/lib/python3.6/dist-packages/IPython/core/pylabtools.py\u001b[0m in \u001b[0;36m<lambda>\u001b[0;34m(fig)\u001b[0m\n\u001b[1;32m    239\u001b[0m \u001b[0;34m\u001b[0m\u001b[0m\n\u001b[1;32m    240\u001b[0m     \u001b[0;32mif\u001b[0m \u001b[0;34m'png'\u001b[0m \u001b[0;32min\u001b[0m \u001b[0mformats\u001b[0m\u001b[0;34m:\u001b[0m\u001b[0;34m\u001b[0m\u001b[0;34m\u001b[0m\u001b[0m\n\u001b[0;32m--> 241\u001b[0;31m         \u001b[0mpng_formatter\u001b[0m\u001b[0;34m.\u001b[0m\u001b[0mfor_type\u001b[0m\u001b[0;34m(\u001b[0m\u001b[0mFigure\u001b[0m\u001b[0;34m,\u001b[0m \u001b[0;32mlambda\u001b[0m \u001b[0mfig\u001b[0m\u001b[0;34m:\u001b[0m \u001b[0mprint_figure\u001b[0m\u001b[0;34m(\u001b[0m\u001b[0mfig\u001b[0m\u001b[0;34m,\u001b[0m \u001b[0;34m'png'\u001b[0m\u001b[0;34m,\u001b[0m \u001b[0;34m**\u001b[0m\u001b[0mkwargs\u001b[0m\u001b[0;34m)\u001b[0m\u001b[0;34m)\u001b[0m\u001b[0;34m\u001b[0m\u001b[0;34m\u001b[0m\u001b[0m\n\u001b[0m\u001b[1;32m    242\u001b[0m     \u001b[0;32mif\u001b[0m \u001b[0;34m'retina'\u001b[0m \u001b[0;32min\u001b[0m \u001b[0mformats\u001b[0m \u001b[0;32mor\u001b[0m \u001b[0;34m'png2x'\u001b[0m \u001b[0;32min\u001b[0m \u001b[0mformats\u001b[0m\u001b[0;34m:\u001b[0m\u001b[0;34m\u001b[0m\u001b[0;34m\u001b[0m\u001b[0m\n\u001b[1;32m    243\u001b[0m         \u001b[0mpng_formatter\u001b[0m\u001b[0;34m.\u001b[0m\u001b[0mfor_type\u001b[0m\u001b[0;34m(\u001b[0m\u001b[0mFigure\u001b[0m\u001b[0;34m,\u001b[0m \u001b[0;32mlambda\u001b[0m \u001b[0mfig\u001b[0m\u001b[0;34m:\u001b[0m \u001b[0mretina_figure\u001b[0m\u001b[0;34m(\u001b[0m\u001b[0mfig\u001b[0m\u001b[0;34m,\u001b[0m \u001b[0;34m**\u001b[0m\u001b[0mkwargs\u001b[0m\u001b[0;34m)\u001b[0m\u001b[0;34m)\u001b[0m\u001b[0;34m\u001b[0m\u001b[0;34m\u001b[0m\u001b[0m\n",
            "\u001b[0;32m/usr/local/lib/python3.6/dist-packages/IPython/core/pylabtools.py\u001b[0m in \u001b[0;36mprint_figure\u001b[0;34m(fig, fmt, bbox_inches, **kwargs)\u001b[0m\n\u001b[1;32m    123\u001b[0m \u001b[0;34m\u001b[0m\u001b[0m\n\u001b[1;32m    124\u001b[0m     \u001b[0mbytes_io\u001b[0m \u001b[0;34m=\u001b[0m \u001b[0mBytesIO\u001b[0m\u001b[0;34m(\u001b[0m\u001b[0;34m)\u001b[0m\u001b[0;34m\u001b[0m\u001b[0;34m\u001b[0m\u001b[0m\n\u001b[0;32m--> 125\u001b[0;31m     \u001b[0mfig\u001b[0m\u001b[0;34m.\u001b[0m\u001b[0mcanvas\u001b[0m\u001b[0;34m.\u001b[0m\u001b[0mprint_figure\u001b[0m\u001b[0;34m(\u001b[0m\u001b[0mbytes_io\u001b[0m\u001b[0;34m,\u001b[0m \u001b[0;34m**\u001b[0m\u001b[0mkw\u001b[0m\u001b[0;34m)\u001b[0m\u001b[0;34m\u001b[0m\u001b[0;34m\u001b[0m\u001b[0m\n\u001b[0m\u001b[1;32m    126\u001b[0m     \u001b[0mdata\u001b[0m \u001b[0;34m=\u001b[0m \u001b[0mbytes_io\u001b[0m\u001b[0;34m.\u001b[0m\u001b[0mgetvalue\u001b[0m\u001b[0;34m(\u001b[0m\u001b[0;34m)\u001b[0m\u001b[0;34m\u001b[0m\u001b[0;34m\u001b[0m\u001b[0m\n\u001b[1;32m    127\u001b[0m     \u001b[0;32mif\u001b[0m \u001b[0mfmt\u001b[0m \u001b[0;34m==\u001b[0m \u001b[0;34m'svg'\u001b[0m\u001b[0;34m:\u001b[0m\u001b[0;34m\u001b[0m\u001b[0;34m\u001b[0m\u001b[0m\n",
            "\u001b[0;32m/usr/local/lib/python3.6/dist-packages/matplotlib/backend_bases.py\u001b[0m in \u001b[0;36mprint_figure\u001b[0;34m(self, filename, dpi, facecolor, edgecolor, orientation, format, bbox_inches, **kwargs)\u001b[0m\n\u001b[1;32m   2089\u001b[0m                     \u001b[0morientation\u001b[0m\u001b[0;34m=\u001b[0m\u001b[0morientation\u001b[0m\u001b[0;34m,\u001b[0m\u001b[0;34m\u001b[0m\u001b[0;34m\u001b[0m\u001b[0m\n\u001b[1;32m   2090\u001b[0m                     \u001b[0mbbox_inches_restore\u001b[0m\u001b[0;34m=\u001b[0m\u001b[0m_bbox_inches_restore\u001b[0m\u001b[0;34m,\u001b[0m\u001b[0;34m\u001b[0m\u001b[0;34m\u001b[0m\u001b[0m\n\u001b[0;32m-> 2091\u001b[0;31m                     **kwargs)\n\u001b[0m\u001b[1;32m   2092\u001b[0m             \u001b[0;32mfinally\u001b[0m\u001b[0;34m:\u001b[0m\u001b[0;34m\u001b[0m\u001b[0;34m\u001b[0m\u001b[0m\n\u001b[1;32m   2093\u001b[0m                 \u001b[0;32mif\u001b[0m \u001b[0mbbox_inches\u001b[0m \u001b[0;32mand\u001b[0m \u001b[0mrestore_bbox\u001b[0m\u001b[0;34m:\u001b[0m\u001b[0;34m\u001b[0m\u001b[0;34m\u001b[0m\u001b[0m\n",
            "\u001b[0;32m/usr/local/lib/python3.6/dist-packages/matplotlib/backends/backend_agg.py\u001b[0m in \u001b[0;36mprint_png\u001b[0;34m(self, filename_or_obj, metadata, pil_kwargs, *args, **kwargs)\u001b[0m\n\u001b[1;32m    525\u001b[0m \u001b[0;34m\u001b[0m\u001b[0m\n\u001b[1;32m    526\u001b[0m         \u001b[0;32melse\u001b[0m\u001b[0;34m:\u001b[0m\u001b[0;34m\u001b[0m\u001b[0;34m\u001b[0m\u001b[0m\n\u001b[0;32m--> 527\u001b[0;31m             \u001b[0mFigureCanvasAgg\u001b[0m\u001b[0;34m.\u001b[0m\u001b[0mdraw\u001b[0m\u001b[0;34m(\u001b[0m\u001b[0mself\u001b[0m\u001b[0;34m)\u001b[0m\u001b[0;34m\u001b[0m\u001b[0;34m\u001b[0m\u001b[0m\n\u001b[0m\u001b[1;32m    528\u001b[0m             \u001b[0mrenderer\u001b[0m \u001b[0;34m=\u001b[0m \u001b[0mself\u001b[0m\u001b[0;34m.\u001b[0m\u001b[0mget_renderer\u001b[0m\u001b[0;34m(\u001b[0m\u001b[0;34m)\u001b[0m\u001b[0;34m\u001b[0m\u001b[0;34m\u001b[0m\u001b[0m\n\u001b[1;32m    529\u001b[0m             \u001b[0;32mwith\u001b[0m \u001b[0mcbook\u001b[0m\u001b[0;34m.\u001b[0m\u001b[0m_setattr_cm\u001b[0m\u001b[0;34m(\u001b[0m\u001b[0mrenderer\u001b[0m\u001b[0;34m,\u001b[0m \u001b[0mdpi\u001b[0m\u001b[0;34m=\u001b[0m\u001b[0mself\u001b[0m\u001b[0;34m.\u001b[0m\u001b[0mfigure\u001b[0m\u001b[0;34m.\u001b[0m\u001b[0mdpi\u001b[0m\u001b[0;34m)\u001b[0m\u001b[0;34m,\u001b[0m\u001b[0;31m \u001b[0m\u001b[0;31m\\\u001b[0m\u001b[0;34m\u001b[0m\u001b[0;34m\u001b[0m\u001b[0m\n",
            "\u001b[0;32m/usr/local/lib/python3.6/dist-packages/matplotlib/backends/backend_agg.py\u001b[0m in \u001b[0;36mdraw\u001b[0;34m(self)\u001b[0m\n\u001b[1;32m    384\u001b[0m         \u001b[0mDraw\u001b[0m \u001b[0mthe\u001b[0m \u001b[0mfigure\u001b[0m \u001b[0musing\u001b[0m \u001b[0mthe\u001b[0m \u001b[0mrenderer\u001b[0m\u001b[0;34m.\u001b[0m\u001b[0;34m\u001b[0m\u001b[0;34m\u001b[0m\u001b[0m\n\u001b[1;32m    385\u001b[0m         \"\"\"\n\u001b[0;32m--> 386\u001b[0;31m         \u001b[0mself\u001b[0m\u001b[0;34m.\u001b[0m\u001b[0mrenderer\u001b[0m \u001b[0;34m=\u001b[0m \u001b[0mself\u001b[0m\u001b[0;34m.\u001b[0m\u001b[0mget_renderer\u001b[0m\u001b[0;34m(\u001b[0m\u001b[0mcleared\u001b[0m\u001b[0;34m=\u001b[0m\u001b[0;32mTrue\u001b[0m\u001b[0;34m)\u001b[0m\u001b[0;34m\u001b[0m\u001b[0;34m\u001b[0m\u001b[0m\n\u001b[0m\u001b[1;32m    387\u001b[0m         \u001b[0;32mwith\u001b[0m \u001b[0mRendererAgg\u001b[0m\u001b[0;34m.\u001b[0m\u001b[0mlock\u001b[0m\u001b[0;34m:\u001b[0m\u001b[0;34m\u001b[0m\u001b[0;34m\u001b[0m\u001b[0m\n\u001b[1;32m    388\u001b[0m             \u001b[0mself\u001b[0m\u001b[0;34m.\u001b[0m\u001b[0mfigure\u001b[0m\u001b[0;34m.\u001b[0m\u001b[0mdraw\u001b[0m\u001b[0;34m(\u001b[0m\u001b[0mself\u001b[0m\u001b[0;34m.\u001b[0m\u001b[0mrenderer\u001b[0m\u001b[0;34m)\u001b[0m\u001b[0;34m\u001b[0m\u001b[0;34m\u001b[0m\u001b[0m\n",
            "\u001b[0;32m/usr/local/lib/python3.6/dist-packages/matplotlib/backends/backend_agg.py\u001b[0m in \u001b[0;36mget_renderer\u001b[0;34m(self, cleared)\u001b[0m\n\u001b[1;32m    397\u001b[0m                           and getattr(self, \"_lastKey\", None) == key)\n\u001b[1;32m    398\u001b[0m         \u001b[0;32mif\u001b[0m \u001b[0;32mnot\u001b[0m \u001b[0mreuse_renderer\u001b[0m\u001b[0;34m:\u001b[0m\u001b[0;34m\u001b[0m\u001b[0;34m\u001b[0m\u001b[0m\n\u001b[0;32m--> 399\u001b[0;31m             \u001b[0mself\u001b[0m\u001b[0;34m.\u001b[0m\u001b[0mrenderer\u001b[0m \u001b[0;34m=\u001b[0m \u001b[0mRendererAgg\u001b[0m\u001b[0;34m(\u001b[0m\u001b[0mw\u001b[0m\u001b[0;34m,\u001b[0m \u001b[0mh\u001b[0m\u001b[0;34m,\u001b[0m \u001b[0mself\u001b[0m\u001b[0;34m.\u001b[0m\u001b[0mfigure\u001b[0m\u001b[0;34m.\u001b[0m\u001b[0mdpi\u001b[0m\u001b[0;34m)\u001b[0m\u001b[0;34m\u001b[0m\u001b[0;34m\u001b[0m\u001b[0m\n\u001b[0m\u001b[1;32m    400\u001b[0m             \u001b[0mself\u001b[0m\u001b[0;34m.\u001b[0m\u001b[0m_lastKey\u001b[0m \u001b[0;34m=\u001b[0m \u001b[0mkey\u001b[0m\u001b[0;34m\u001b[0m\u001b[0;34m\u001b[0m\u001b[0m\n\u001b[1;32m    401\u001b[0m         \u001b[0;32melif\u001b[0m \u001b[0mcleared\u001b[0m\u001b[0;34m:\u001b[0m\u001b[0;34m\u001b[0m\u001b[0;34m\u001b[0m\u001b[0m\n",
            "\u001b[0;32m/usr/local/lib/python3.6/dist-packages/matplotlib/backends/backend_agg.py\u001b[0m in \u001b[0;36m__init__\u001b[0;34m(self, width, height, dpi)\u001b[0m\n\u001b[1;32m     84\u001b[0m         \u001b[0mself\u001b[0m\u001b[0;34m.\u001b[0m\u001b[0mwidth\u001b[0m \u001b[0;34m=\u001b[0m \u001b[0mwidth\u001b[0m\u001b[0;34m\u001b[0m\u001b[0;34m\u001b[0m\u001b[0m\n\u001b[1;32m     85\u001b[0m         \u001b[0mself\u001b[0m\u001b[0;34m.\u001b[0m\u001b[0mheight\u001b[0m \u001b[0;34m=\u001b[0m \u001b[0mheight\u001b[0m\u001b[0;34m\u001b[0m\u001b[0;34m\u001b[0m\u001b[0m\n\u001b[0;32m---> 86\u001b[0;31m         \u001b[0mself\u001b[0m\u001b[0;34m.\u001b[0m\u001b[0m_renderer\u001b[0m \u001b[0;34m=\u001b[0m \u001b[0m_RendererAgg\u001b[0m\u001b[0;34m(\u001b[0m\u001b[0mint\u001b[0m\u001b[0;34m(\u001b[0m\u001b[0mwidth\u001b[0m\u001b[0;34m)\u001b[0m\u001b[0;34m,\u001b[0m \u001b[0mint\u001b[0m\u001b[0;34m(\u001b[0m\u001b[0mheight\u001b[0m\u001b[0;34m)\u001b[0m\u001b[0;34m,\u001b[0m \u001b[0mdpi\u001b[0m\u001b[0;34m)\u001b[0m\u001b[0;34m\u001b[0m\u001b[0;34m\u001b[0m\u001b[0m\n\u001b[0m\u001b[1;32m     87\u001b[0m         \u001b[0mself\u001b[0m\u001b[0;34m.\u001b[0m\u001b[0m_filter_renderers\u001b[0m \u001b[0;34m=\u001b[0m \u001b[0;34m[\u001b[0m\u001b[0;34m]\u001b[0m\u001b[0;34m\u001b[0m\u001b[0;34m\u001b[0m\u001b[0m\n\u001b[1;32m     88\u001b[0m \u001b[0;34m\u001b[0m\u001b[0m\n",
            "\u001b[0;31mValueError\u001b[0m: Image size of 5607x81760 pixels is too large. It must be less than 2^16 in each direction."
          ]
        },
        {
          "output_type": "display_data",
          "data": {
            "text/plain": [
              "<Figure size 7200x1080 with 1 Axes>"
            ]
          },
          "metadata": {
            "tags": []
          }
        }
      ]
    },
    {
      "cell_type": "markdown",
      "metadata": {
        "id": "_nlzHBQpLWqj"
      },
      "source": [
        "#unwanted\n"
      ]
    },
    {
      "cell_type": "code",
      "metadata": {
        "id": "lQntgOsVjLKh"
      },
      "source": [
        "#phd_record_data['sort']=phd_record_data.groupby(['singleyear','singleclass'])"
      ],
      "execution_count": null,
      "outputs": []
    },
    {
      "cell_type": "code",
      "metadata": {
        "id": "PugDLkuuUoKr",
        "colab": {
          "base_uri": "https://localhost:8080/",
          "height": 306
        },
        "outputId": "d510917f-1a7e-4b61-8317-34865df14329"
      },
      "source": [
        "#Coursewise analysis by grouping similar groups\n",
        "phd_record_data.groupby(['singleclass','singleyear']).count().plot(kind='barh', figsize=(15,25))"
      ],
      "execution_count": null,
      "outputs": [
        {
          "output_type": "error",
          "ename": "KeyError",
          "evalue": "ignored",
          "traceback": [
            "\u001b[0;31m---------------------------------------------------------------------------\u001b[0m",
            "\u001b[0;31mKeyError\u001b[0m                                  Traceback (most recent call last)",
            "\u001b[0;32m<ipython-input-181-1a807c2f483c>\u001b[0m in \u001b[0;36m<module>\u001b[0;34m()\u001b[0m\n\u001b[0;32m----> 1\u001b[0;31m \u001b[0mphd_record_data\u001b[0m\u001b[0;34m.\u001b[0m\u001b[0mgroupby\u001b[0m\u001b[0;34m(\u001b[0m\u001b[0;34m[\u001b[0m\u001b[0;34m'singleclass'\u001b[0m\u001b[0;34m,\u001b[0m\u001b[0;34m'singleyear'\u001b[0m\u001b[0;34m]\u001b[0m\u001b[0;34m)\u001b[0m\u001b[0;34m.\u001b[0m\u001b[0mcount\u001b[0m\u001b[0;34m(\u001b[0m\u001b[0;34m)\u001b[0m\u001b[0;34m.\u001b[0m\u001b[0mplot\u001b[0m\u001b[0;34m(\u001b[0m\u001b[0mkind\u001b[0m\u001b[0;34m=\u001b[0m\u001b[0;34m'barh'\u001b[0m\u001b[0;34m,\u001b[0m \u001b[0mfigsize\u001b[0m\u001b[0;34m=\u001b[0m\u001b[0;34m(\u001b[0m\u001b[0;36m15\u001b[0m\u001b[0;34m,\u001b[0m\u001b[0;36m25\u001b[0m\u001b[0;34m)\u001b[0m\u001b[0;34m)\u001b[0m\u001b[0;34m\u001b[0m\u001b[0;34m\u001b[0m\u001b[0m\n\u001b[0m",
            "\u001b[0;32m/usr/local/lib/python3.6/dist-packages/pandas/core/generic.py\u001b[0m in \u001b[0;36mgroupby\u001b[0;34m(self, by, axis, level, as_index, sort, group_keys, squeeze, observed, **kwargs)\u001b[0m\n\u001b[1;32m   7892\u001b[0m             \u001b[0msqueeze\u001b[0m\u001b[0;34m=\u001b[0m\u001b[0msqueeze\u001b[0m\u001b[0;34m,\u001b[0m\u001b[0;34m\u001b[0m\u001b[0;34m\u001b[0m\u001b[0m\n\u001b[1;32m   7893\u001b[0m             \u001b[0mobserved\u001b[0m\u001b[0;34m=\u001b[0m\u001b[0mobserved\u001b[0m\u001b[0;34m,\u001b[0m\u001b[0;34m\u001b[0m\u001b[0;34m\u001b[0m\u001b[0m\n\u001b[0;32m-> 7894\u001b[0;31m             \u001b[0;34m**\u001b[0m\u001b[0mkwargs\u001b[0m\u001b[0;34m\u001b[0m\u001b[0;34m\u001b[0m\u001b[0m\n\u001b[0m\u001b[1;32m   7895\u001b[0m         )\n\u001b[1;32m   7896\u001b[0m \u001b[0;34m\u001b[0m\u001b[0m\n",
            "\u001b[0;32m/usr/local/lib/python3.6/dist-packages/pandas/core/groupby/groupby.py\u001b[0m in \u001b[0;36mgroupby\u001b[0;34m(obj, by, **kwds)\u001b[0m\n\u001b[1;32m   2520\u001b[0m         \u001b[0;32mraise\u001b[0m \u001b[0mTypeError\u001b[0m\u001b[0;34m(\u001b[0m\u001b[0;34m\"invalid type: {}\"\u001b[0m\u001b[0;34m.\u001b[0m\u001b[0mformat\u001b[0m\u001b[0;34m(\u001b[0m\u001b[0mobj\u001b[0m\u001b[0;34m)\u001b[0m\u001b[0;34m)\u001b[0m\u001b[0;34m\u001b[0m\u001b[0;34m\u001b[0m\u001b[0m\n\u001b[1;32m   2521\u001b[0m \u001b[0;34m\u001b[0m\u001b[0m\n\u001b[0;32m-> 2522\u001b[0;31m     \u001b[0;32mreturn\u001b[0m \u001b[0mklass\u001b[0m\u001b[0;34m(\u001b[0m\u001b[0mobj\u001b[0m\u001b[0;34m,\u001b[0m \u001b[0mby\u001b[0m\u001b[0;34m,\u001b[0m \u001b[0;34m**\u001b[0m\u001b[0mkwds\u001b[0m\u001b[0;34m)\u001b[0m\u001b[0;34m\u001b[0m\u001b[0;34m\u001b[0m\u001b[0m\n\u001b[0m",
            "\u001b[0;32m/usr/local/lib/python3.6/dist-packages/pandas/core/groupby/groupby.py\u001b[0m in \u001b[0;36m__init__\u001b[0;34m(self, obj, keys, axis, level, grouper, exclusions, selection, as_index, sort, group_keys, squeeze, observed, **kwargs)\u001b[0m\n\u001b[1;32m    389\u001b[0m                 \u001b[0msort\u001b[0m\u001b[0;34m=\u001b[0m\u001b[0msort\u001b[0m\u001b[0;34m,\u001b[0m\u001b[0;34m\u001b[0m\u001b[0;34m\u001b[0m\u001b[0m\n\u001b[1;32m    390\u001b[0m                 \u001b[0mobserved\u001b[0m\u001b[0;34m=\u001b[0m\u001b[0mobserved\u001b[0m\u001b[0;34m,\u001b[0m\u001b[0;34m\u001b[0m\u001b[0;34m\u001b[0m\u001b[0m\n\u001b[0;32m--> 391\u001b[0;31m                 \u001b[0mmutated\u001b[0m\u001b[0;34m=\u001b[0m\u001b[0mself\u001b[0m\u001b[0;34m.\u001b[0m\u001b[0mmutated\u001b[0m\u001b[0;34m,\u001b[0m\u001b[0;34m\u001b[0m\u001b[0;34m\u001b[0m\u001b[0m\n\u001b[0m\u001b[1;32m    392\u001b[0m             )\n\u001b[1;32m    393\u001b[0m \u001b[0;34m\u001b[0m\u001b[0m\n",
            "\u001b[0;32m/usr/local/lib/python3.6/dist-packages/pandas/core/groupby/grouper.py\u001b[0m in \u001b[0;36m_get_grouper\u001b[0;34m(obj, key, axis, level, sort, observed, mutated, validate)\u001b[0m\n\u001b[1;32m    619\u001b[0m                 \u001b[0min_axis\u001b[0m\u001b[0;34m,\u001b[0m \u001b[0mname\u001b[0m\u001b[0;34m,\u001b[0m \u001b[0mlevel\u001b[0m\u001b[0;34m,\u001b[0m \u001b[0mgpr\u001b[0m \u001b[0;34m=\u001b[0m \u001b[0;32mFalse\u001b[0m\u001b[0;34m,\u001b[0m \u001b[0;32mNone\u001b[0m\u001b[0;34m,\u001b[0m \u001b[0mgpr\u001b[0m\u001b[0;34m,\u001b[0m \u001b[0;32mNone\u001b[0m\u001b[0;34m\u001b[0m\u001b[0;34m\u001b[0m\u001b[0m\n\u001b[1;32m    620\u001b[0m             \u001b[0;32melse\u001b[0m\u001b[0;34m:\u001b[0m\u001b[0;34m\u001b[0m\u001b[0;34m\u001b[0m\u001b[0m\n\u001b[0;32m--> 621\u001b[0;31m                 \u001b[0;32mraise\u001b[0m \u001b[0mKeyError\u001b[0m\u001b[0;34m(\u001b[0m\u001b[0mgpr\u001b[0m\u001b[0;34m)\u001b[0m\u001b[0;34m\u001b[0m\u001b[0;34m\u001b[0m\u001b[0m\n\u001b[0m\u001b[1;32m    622\u001b[0m         \u001b[0;32melif\u001b[0m \u001b[0misinstance\u001b[0m\u001b[0;34m(\u001b[0m\u001b[0mgpr\u001b[0m\u001b[0;34m,\u001b[0m \u001b[0mGrouper\u001b[0m\u001b[0;34m)\u001b[0m \u001b[0;32mand\u001b[0m \u001b[0mgpr\u001b[0m\u001b[0;34m.\u001b[0m\u001b[0mkey\u001b[0m \u001b[0;32mis\u001b[0m \u001b[0;32mnot\u001b[0m \u001b[0;32mNone\u001b[0m\u001b[0;34m:\u001b[0m\u001b[0;34m\u001b[0m\u001b[0;34m\u001b[0m\u001b[0m\n\u001b[1;32m    623\u001b[0m             \u001b[0;31m# Add key to exclusions\u001b[0m\u001b[0;34m\u001b[0m\u001b[0;34m\u001b[0m\u001b[0;34m\u001b[0m\u001b[0m\n",
            "\u001b[0;31mKeyError\u001b[0m: 'singleyear'"
          ]
        }
      ]
    },
    {
      "cell_type": "code",
      "metadata": {
        "id": "0Jnx9TwJjTxp"
      },
      "source": [
        ""
      ],
      "execution_count": null,
      "outputs": []
    },
    {
      "cell_type": "code",
      "metadata": {
        "id": "fz9xG0bw7RV-"
      },
      "source": [
        "#time = pd.DatetimeIndex(phd_record_data['Time Spend'])\n",
        "\n",
        "#time.hour * 60 + time.minute\n"
      ],
      "execution_count": null,
      "outputs": []
    },
    {
      "cell_type": "code",
      "metadata": {
        "id": "5iE5hJBP_7BH"
      },
      "source": [
        "import matplotlib.pyplot as plt\n",
        "plt.plot(phd_record_data['Time Spend'])\n",
        "plt.ylabel('Time Spend')\n",
        "plt.xlabel('Total record')\n",
        "plt.show()"
      ],
      "execution_count": null,
      "outputs": []
    },
    {
      "cell_type": "code",
      "metadata": {
        "id": "Ae1C4zWdEd0s"
      },
      "source": [
        "plt.figure(figsize=(10,5))\n",
        "plt.plot(phd_record_data['Class'])\n",
        "plt.ylabel('Class')\n",
        "plt.xlabel('Total record')\n",
        "plt.show()"
      ],
      "execution_count": null,
      "outputs": []
    },
    {
      "cell_type": "code",
      "metadata": {
        "id": "AmAOOXyl4TmB"
      },
      "source": [
        "#phd_record_data['Timespend_minutes'] = hour(Time.Spend) * 60 +minute(Time.Spend)+second(Time.Spend) /60"
      ],
      "execution_count": null,
      "outputs": []
    },
    {
      "cell_type": "code",
      "metadata": {
        "id": "ZXGC12grGJz5"
      },
      "source": [
        "#which class is using which libray\n",
        "import pandas as pd\n",
        "import matplotlib.pyplot as plt\n",
        "fig, ax = plt.subplots(figsize=(20,10))\n",
        "phd_record_data.groupby(['Class','Venue']).count().plot(ax=ax)\n",
        "\n",
        "grouped = phd_record_data.groupby(['Class','Venue'])\n",
        "size = grouped.size()\n",
        "size\n",
        "\n"
      ],
      "execution_count": null,
      "outputs": []
    },
    {
      "cell_type": "code",
      "metadata": {
        "id": "ru-C_gRWrV5A"
      },
      "source": [
        "#Time Spend vs First Name'\n",
        "plt.figure(figsize=(25,150))\n",
        "plt.plot(phd_record_data['Time Spend'],phd_record_data['First Name'])\n",
        "plt.xlabel('Time Spend')\n",
        "plt.ylabel('First Name')"
      ],
      "execution_count": null,
      "outputs": []
    },
    {
      "cell_type": "code",
      "metadata": {
        "id": "smFnA-lTwzMU"
      },
      "source": [
        "ranges = [1,4,7,10,13]\n",
        "phd_record_data.groupby(pd.cut(month,ranges)).count()"
      ],
      "execution_count": null,
      "outputs": []
    },
    {
      "cell_type": "code",
      "metadata": {
        "id": "WN4BvZOcsxFX"
      },
      "source": [
        "#which user had used mosty the library-- First Name with timespend\n",
        "import matplotlib.pyplot as plt\n",
        "phd_record_data['First Name'].value_counts().head(50).plot(kind='barh', figsize=(25,25))\n",
        "\n",
        "grouped = phd_record_data.groupby(['First Name','Time Spend'])\n",
        "size = grouped.size()\n",
        "size\n",
        "\n",
        "\n"
      ],
      "execution_count": null,
      "outputs": []
    },
    {
      "cell_type": "code",
      "metadata": {
        "id": "1ww6vKCSwnNx"
      },
      "source": [
        "#which Register No had used mosty used the library-- Regno with timespend\n",
        "import matplotlib.pyplot as plt\n",
        "phd_record_data['First Name'].value_counts().head(50).plot(kind='barh', figsize=(25,25))\n",
        "\n",
        "grouped = phd_record_data.groupby(['Register No','Time Spend'])\n",
        "size = grouped.size()\n",
        "size\n",
        "\n",
        "\n"
      ],
      "execution_count": null,
      "outputs": []
    },
    {
      "cell_type": "code",
      "metadata": {
        "id": "GOOk6wld9L0q"
      },
      "source": [
        "pd.crosstab(phd_record_data['First Name'],phd_record_data['Venue'],normalize=True)"
      ],
      "execution_count": null,
      "outputs": []
    },
    {
      "cell_type": "code",
      "metadata": {
        "id": "t9pYvAgo7bVD"
      },
      "source": [
        "phd_record_data['First Name'].value_counts(normalize=True)"
      ],
      "execution_count": null,
      "outputs": []
    },
    {
      "cell_type": "code",
      "metadata": {
        "id": "42cT99DtuDtP"
      },
      "source": [
        "sort = phd_record_data.sort_values(['Time Spend'],ascending=False).groupby('First Name').head(3)\n",
        "sort"
      ],
      "execution_count": null,
      "outputs": []
    },
    {
      "cell_type": "markdown",
      "metadata": {
        "id": "n0E-mWcLLoY0"
      },
      "source": [
        "#END"
      ]
    }
  ]
}